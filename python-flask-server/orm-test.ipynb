{
 "cells": [
  {
   "cell_type": "code",
   "execution_count": 1,
   "metadata": {},
   "outputs": [],
   "source": [
    "from sqlalchemy import Column, DateTime, Integer, String, Boolean, ForeignKey, create_engine, text\n",
    "from sqlalchemy.ext.declarative import declarative_base\n",
    "from sqlalchemy.orm import scoped_session, sessionmaker, relationship\n",
    "import os\n",
    "if os.path.exists(\"orm-test.db\"):\n",
    "    os.remove(\"orm-test.db\")\n",
    "engine = create_engine('sqlite:///orm-test.db', echo=True, convert_unicode=True)\n",
    "Base = declarative_base()"
   ]
  },
  {
   "cell_type": "code",
   "execution_count": 2,
   "metadata": {},
   "outputs": [],
   "source": [
    "class User(Base):\n",
    "    __tablename__ = 'users'\n",
    "    id = Column(Integer, primary_key=True)\n",
    "    username = Column(String(31), unique=True, nullable=False)\n",
    "    password = Column(String(31))\n",
    "    name = Column(String(255))\n",
    "    email = Column(String(255))\n",
    "    phone = Column(String(255))\n",
    "    admin = Column(Boolean, default=False)\n",
    "    investor = Column(Boolean, default=False)\n",
    "    locale = Column(String(5), default='en_US')\n",
    "    verified = Column(Boolean, default=False)\n",
    "    blocked = Column(Boolean, default=False)\n",
    "    created = Column(DateTime(), server_default=text(\"(datetime('now'))\"))\n",
    "    updated = Column(DateTime(), server_default=text(\"(datetime('now'))\"))\n",
    "    bids = relationship(\"Bid\", back_populates=\"bidder\")\n",
    "    asks = relationship(\"Ask\", back_populates=\"investor\")\n",
    "\n",
    "    def __repr__(self):\n",
    "        return \"<User(id='%s', username='%s', email='%s', phone='%s', admin='%s', verified='%s', blocked='%s')>\" % (\n",
    "            self.id, self.username, self.email, self.phone, self.admin, self.verified, self.blocked\n",
    "        )\n",
    "\n",
    "    def update(self, **kwargs):\n",
    "        if len(kwargs):\n",
    "            p = ('username', 'password', 'name', 'email', 'phone', 'admin', 'investor', 'locale', 'verified', 'blocked')\n",
    "            for k, v in kwargs.items():\n",
    "                if k in p:\n",
    "                    self.__setattr__(k, v)\n",
    "\n",
    "    def dump(self):\n",
    "        return dict([(k, v) for k, v in vars(self).items() if not k.startswith('_')])\n",
    "\n",
    "\n",
    "class Bid(Base):\n",
    "    __tablename__ = 'bids'\n",
    "    id = Column(Integer, primary_key=True)\n",
    "    quantity = Column(Integer)\n",
    "    price = Column(Integer)\n",
    "    user_id = Column(Integer, ForeignKey('users.id'), nullable=False)\n",
    "    status = Column(Boolean, default=True)\n",
    "    created = Column(DateTime(), server_default=text(\"(datetime('now'))\"))\n",
    "    updated = Column(DateTime(), server_default=text(\"(datetime('now'))\"))\n",
    "    bidder = relationship(\"User\", back_populates=\"bids\")\n",
    "\n",
    "    def __repr__(self):\n",
    "        return \"<Bid(id='%s', quantity='%s', price='%s', user_id='%s', status='%s')>\" % (\n",
    "            self.id, self.quantity, self.price, self.user_id, self.status\n",
    "        )\n",
    "\n",
    "    def update(self, **kwargs):\n",
    "        if len(kwargs):\n",
    "            p = ('quantity', 'price', 'bidder', 'status')\n",
    "            for k, v in kwargs.items():\n",
    "                if k in p:\n",
    "                    self.__setattr__(k, v)\n",
    "\n",
    "    def dump(self):\n",
    "        return dict([(k, v) for k, v in vars(self).items() if not k.startswith('_')])\n",
    "\n",
    "class Ask(Base):\n",
    "    __tablename__ = 'asks'\n",
    "    id = Column(Integer, primary_key=True)\n",
    "    quantity = Column(Integer)\n",
    "    price = Column(Integer)\n",
    "    user_id = Column(Integer, ForeignKey('users.id'), nullable=False)\n",
    "    status = Column(Boolean, default=True)\n",
    "    created = Column(DateTime(), server_default=text(\"(datetime('now'))\"))\n",
    "    updated = Column(DateTime(), server_default=text(\"(datetime('now'))\"))\n",
    "    investor = relationship(\"User\", back_populates=\"asks\")\n",
    "\n",
    "    def __repr__(self):\n",
    "        return \"<Ask(id='%s', quantity='%s', price='%s', user_id='%s', status='%s')>\" % (\n",
    "            self.id, self.quantity, self.price, self.user_id, self.status\n",
    "        )\n",
    "\n",
    "    def update(self, **kwargs):\n",
    "        if len(kwargs):\n",
    "            p = ('quantity', 'price', 'bidder', 'status')\n",
    "            for k, v in kwargs.items():\n",
    "                if k in p:\n",
    "                    self.__setattr__(k, v)\n",
    "\n",
    "    def dump(self):\n",
    "        return dict([(k, v) for k, v in vars(self).items() if not k.startswith('_')])"
   ]
  },
  {
   "cell_type": "code",
   "execution_count": 3,
   "metadata": {},
   "outputs": [],
   "source": [
    "db_session = scoped_session(sessionmaker(autocommit=False, autoflush=False, bind=engine))"
   ]
  },
  {
   "cell_type": "code",
   "execution_count": 4,
   "metadata": {},
   "outputs": [],
   "source": [
    "Base.query = db_session.query_property()"
   ]
  },
  {
   "cell_type": "code",
   "execution_count": 5,
   "metadata": {},
   "outputs": [
    {
     "name": "stdout",
     "output_type": "stream",
     "text": [
      "2018-12-13 16:18:54,612 INFO sqlalchemy.engine.base.Engine SELECT CAST('test plain returns' AS VARCHAR(60)) AS anon_1\n",
      "2018-12-13 16:18:54,613 INFO sqlalchemy.engine.base.Engine ()\n",
      "2018-12-13 16:18:54,614 INFO sqlalchemy.engine.base.Engine SELECT CAST('test unicode returns' AS VARCHAR(60)) AS anon_1\n",
      "2018-12-13 16:18:54,615 INFO sqlalchemy.engine.base.Engine ()\n",
      "2018-12-13 16:18:54,617 INFO sqlalchemy.engine.base.Engine PRAGMA table_info(\"users\")\n",
      "2018-12-13 16:18:54,618 INFO sqlalchemy.engine.base.Engine ()\n",
      "2018-12-13 16:18:54,619 INFO sqlalchemy.engine.base.Engine PRAGMA table_info(\"bids\")\n",
      "2018-12-13 16:18:54,620 INFO sqlalchemy.engine.base.Engine ()\n",
      "2018-12-13 16:18:54,621 INFO sqlalchemy.engine.base.Engine PRAGMA table_info(\"asks\")\n",
      "2018-12-13 16:18:54,621 INFO sqlalchemy.engine.base.Engine ()\n",
      "2018-12-13 16:18:54,623 INFO sqlalchemy.engine.base.Engine \n",
      "CREATE TABLE users (\n",
      "\tid INTEGER NOT NULL, \n",
      "\tusername VARCHAR(31) NOT NULL, \n",
      "\tpassword VARCHAR(31), \n",
      "\tname VARCHAR(255), \n",
      "\temail VARCHAR(255), \n",
      "\tphone VARCHAR(255), \n",
      "\tadmin BOOLEAN, \n",
      "\tinvestor BOOLEAN, \n",
      "\tlocale VARCHAR(5), \n",
      "\tverified BOOLEAN, \n",
      "\tblocked BOOLEAN, \n",
      "\tcreated DATETIME DEFAULT (datetime('now')), \n",
      "\tupdated DATETIME DEFAULT (datetime('now')), \n",
      "\tPRIMARY KEY (id), \n",
      "\tUNIQUE (username), \n",
      "\tCHECK (admin IN (0, 1)), \n",
      "\tCHECK (investor IN (0, 1)), \n",
      "\tCHECK (verified IN (0, 1)), \n",
      "\tCHECK (blocked IN (0, 1))\n",
      ")\n",
      "\n",
      "\n",
      "2018-12-13 16:18:54,624 INFO sqlalchemy.engine.base.Engine ()\n",
      "2018-12-13 16:18:54,627 INFO sqlalchemy.engine.base.Engine COMMIT\n",
      "2018-12-13 16:18:54,628 INFO sqlalchemy.engine.base.Engine \n",
      "CREATE TABLE bids (\n",
      "\tid INTEGER NOT NULL, \n",
      "\tquantity INTEGER, \n",
      "\tprice INTEGER, \n",
      "\tuser_id INTEGER NOT NULL, \n",
      "\tstatus BOOLEAN, \n",
      "\tcreated DATETIME DEFAULT (datetime('now')), \n",
      "\tupdated DATETIME DEFAULT (datetime('now')), \n",
      "\tPRIMARY KEY (id), \n",
      "\tFOREIGN KEY(user_id) REFERENCES users (id), \n",
      "\tCHECK (status IN (0, 1))\n",
      ")\n",
      "\n",
      "\n",
      "2018-12-13 16:18:54,629 INFO sqlalchemy.engine.base.Engine ()\n",
      "2018-12-13 16:18:54,632 INFO sqlalchemy.engine.base.Engine COMMIT\n",
      "2018-12-13 16:18:54,633 INFO sqlalchemy.engine.base.Engine \n",
      "CREATE TABLE asks (\n",
      "\tid INTEGER NOT NULL, \n",
      "\tquantity INTEGER, \n",
      "\tprice INTEGER, \n",
      "\tuser_id INTEGER NOT NULL, \n",
      "\tstatus BOOLEAN, \n",
      "\tcreated DATETIME DEFAULT (datetime('now')), \n",
      "\tupdated DATETIME DEFAULT (datetime('now')), \n",
      "\tPRIMARY KEY (id), \n",
      "\tFOREIGN KEY(user_id) REFERENCES users (id), \n",
      "\tCHECK (status IN (0, 1))\n",
      ")\n",
      "\n",
      "\n",
      "2018-12-13 16:18:54,634 INFO sqlalchemy.engine.base.Engine ()\n",
      "2018-12-13 16:18:54,636 INFO sqlalchemy.engine.base.Engine COMMIT\n"
     ]
    }
   ],
   "source": [
    "Base.metadata.create_all(bind=engine)"
   ]
  },
  {
   "cell_type": "code",
   "execution_count": 6,
   "metadata": {},
   "outputs": [],
   "source": [
    "u1 = User(username='pericaperic')"
   ]
  },
  {
   "cell_type": "code",
   "execution_count": 7,
   "metadata": {},
   "outputs": [
    {
     "name": "stdout",
     "output_type": "stream",
     "text": [
      "2018-12-13 16:18:59,916 INFO sqlalchemy.engine.base.Engine BEGIN (implicit)\n",
      "2018-12-13 16:18:59,918 INFO sqlalchemy.engine.base.Engine SELECT users.id AS users_id, users.username AS users_username, users.password AS users_password, users.name AS users_name, users.email AS users_email, users.phone AS users_phone, users.admin AS users_admin, users.investor AS users_investor, users.locale AS users_locale, users.verified AS users_verified, users.blocked AS users_blocked, users.created AS users_created, users.updated AS users_updated \n",
      "FROM users\n",
      "2018-12-13 16:18:59,919 INFO sqlalchemy.engine.base.Engine ()\n"
     ]
    },
    {
     "data": {
      "text/plain": [
       "[]"
      ]
     },
     "execution_count": 7,
     "metadata": {},
     "output_type": "execute_result"
    }
   ],
   "source": [
    "db_session.query(User).all()"
   ]
  },
  {
   "cell_type": "code",
   "execution_count": 8,
   "metadata": {},
   "outputs": [],
   "source": [
    "db_session.add(u1)"
   ]
  },
  {
   "cell_type": "code",
   "execution_count": 9,
   "metadata": {},
   "outputs": [
    {
     "name": "stdout",
     "output_type": "stream",
     "text": [
      "2018-12-13 16:19:03,057 INFO sqlalchemy.engine.base.Engine INSERT INTO users (username, password, name, email, phone, admin, investor, locale, verified, blocked) VALUES (?, ?, ?, ?, ?, ?, ?, ?, ?, ?)\n",
      "2018-12-13 16:19:03,058 INFO sqlalchemy.engine.base.Engine ('pericaperic', None, None, None, None, 0, 0, 'en_US', 0, 0)\n",
      "2018-12-13 16:19:03,060 INFO sqlalchemy.engine.base.Engine COMMIT\n"
     ]
    }
   ],
   "source": [
    "db_session.commit()"
   ]
  },
  {
   "cell_type": "code",
   "execution_count": 10,
   "metadata": {},
   "outputs": [
    {
     "name": "stdout",
     "output_type": "stream",
     "text": [
      "2018-12-13 16:19:03,819 INFO sqlalchemy.engine.base.Engine BEGIN (implicit)\n",
      "2018-12-13 16:19:03,820 INFO sqlalchemy.engine.base.Engine SELECT users.id AS users_id, users.username AS users_username, users.password AS users_password, users.name AS users_name, users.email AS users_email, users.phone AS users_phone, users.admin AS users_admin, users.investor AS users_investor, users.locale AS users_locale, users.verified AS users_verified, users.blocked AS users_blocked, users.created AS users_created, users.updated AS users_updated \n",
      "FROM users \n",
      "WHERE users.id = ?\n",
      "2018-12-13 16:19:03,821 INFO sqlalchemy.engine.base.Engine (1,)\n",
      "2018-12-13 16:19:03,823 INFO sqlalchemy.engine.base.Engine SELECT bids.id AS bids_id, bids.quantity AS bids_quantity, bids.price AS bids_price, bids.user_id AS bids_user_id, bids.status AS bids_status, bids.created AS bids_created, bids.updated AS bids_updated \n",
      "FROM bids \n",
      "WHERE ? = bids.user_id\n",
      "2018-12-13 16:19:03,824 INFO sqlalchemy.engine.base.Engine (1,)\n"
     ]
    }
   ],
   "source": [
    "u1.bids.append(Bid(quantity=3,price=3456))"
   ]
  },
  {
   "cell_type": "code",
   "execution_count": 11,
   "metadata": {},
   "outputs": [
    {
     "data": {
      "text/plain": [
       "IdentitySet([<Bid(id='None', quantity='3', price='3456', user_id='None', status='None')>])"
      ]
     },
     "execution_count": 11,
     "metadata": {},
     "output_type": "execute_result"
    }
   ],
   "source": [
    "db_session.new"
   ]
  },
  {
   "cell_type": "code",
   "execution_count": 12,
   "metadata": {},
   "outputs": [
    {
     "name": "stdout",
     "output_type": "stream",
     "text": [
      "2018-12-13 16:19:06,523 INFO sqlalchemy.engine.base.Engine INSERT INTO bids (quantity, price, user_id, status) VALUES (?, ?, ?, ?)\n",
      "2018-12-13 16:19:06,524 INFO sqlalchemy.engine.base.Engine (3, 3456, 1, 1)\n",
      "2018-12-13 16:19:06,526 INFO sqlalchemy.engine.base.Engine COMMIT\n"
     ]
    }
   ],
   "source": [
    "db_session.commit()"
   ]
  },
  {
   "cell_type": "code",
   "execution_count": 13,
   "metadata": {},
   "outputs": [
    {
     "name": "stdout",
     "output_type": "stream",
     "text": [
      "2018-12-13 16:19:06,994 INFO sqlalchemy.engine.base.Engine BEGIN (implicit)\n",
      "2018-12-13 16:19:06,995 INFO sqlalchemy.engine.base.Engine SELECT users.id AS users_id, users.username AS users_username, users.password AS users_password, users.name AS users_name, users.email AS users_email, users.phone AS users_phone, users.admin AS users_admin, users.investor AS users_investor, users.locale AS users_locale, users.verified AS users_verified, users.blocked AS users_blocked, users.created AS users_created, users.updated AS users_updated \n",
      "FROM users \n",
      "WHERE users.id = ?\n",
      "2018-12-13 16:19:06,995 INFO sqlalchemy.engine.base.Engine (1,)\n",
      "2018-12-13 16:19:06,997 INFO sqlalchemy.engine.base.Engine SELECT bids.id AS bids_id, bids.quantity AS bids_quantity, bids.price AS bids_price, bids.user_id AS bids_user_id, bids.status AS bids_status, bids.created AS bids_created, bids.updated AS bids_updated \n",
      "FROM bids \n",
      "WHERE ? = bids.user_id\n",
      "2018-12-13 16:19:06,999 INFO sqlalchemy.engine.base.Engine (1,)\n"
     ]
    },
    {
     "data": {
      "text/plain": [
       "[<Bid(id='1', quantity='3', price='3456', user_id='1', status='True')>]"
      ]
     },
     "execution_count": 13,
     "metadata": {},
     "output_type": "execute_result"
    }
   ],
   "source": [
    "u1.bids"
   ]
  },
  {
   "cell_type": "code",
   "execution_count": 14,
   "metadata": {},
   "outputs": [
    {
     "name": "stdout",
     "output_type": "stream",
     "text": [
      "2018-12-13 16:19:08,989 INFO sqlalchemy.engine.base.Engine SELECT asks.id AS asks_id, asks.quantity AS asks_quantity, asks.price AS asks_price, asks.user_id AS asks_user_id, asks.status AS asks_status, asks.created AS asks_created, asks.updated AS asks_updated \n",
      "FROM asks \n",
      "WHERE ? = asks.user_id\n",
      "2018-12-13 16:19:08,990 INFO sqlalchemy.engine.base.Engine (1,)\n"
     ]
    }
   ],
   "source": [
    "u1.asks.append(Ask(quantity=3,price=3456))"
   ]
  },
  {
   "cell_type": "code",
   "execution_count": 15,
   "metadata": {},
   "outputs": [
    {
     "name": "stdout",
     "output_type": "stream",
     "text": [
      "2018-12-13 16:19:09,637 INFO sqlalchemy.engine.base.Engine INSERT INTO asks (quantity, price, user_id, status) VALUES (?, ?, ?, ?)\n",
      "2018-12-13 16:19:09,639 INFO sqlalchemy.engine.base.Engine (3, 3456, 1, 1)\n",
      "2018-12-13 16:19:09,640 INFO sqlalchemy.engine.base.Engine COMMIT\n"
     ]
    }
   ],
   "source": [
    "db_session.commit()"
   ]
  },
  {
   "cell_type": "code",
   "execution_count": 16,
   "metadata": {},
   "outputs": [
    {
     "name": "stdout",
     "output_type": "stream",
     "text": [
      "2018-12-13 16:19:12,826 INFO sqlalchemy.engine.base.Engine BEGIN (implicit)\n",
      "2018-12-13 16:19:12,828 INFO sqlalchemy.engine.base.Engine SELECT users.id AS users_id, users.username AS users_username, users.password AS users_password, users.name AS users_name, users.email AS users_email, users.phone AS users_phone, users.admin AS users_admin, users.investor AS users_investor, users.locale AS users_locale, users.verified AS users_verified, users.blocked AS users_blocked, users.created AS users_created, users.updated AS users_updated \n",
      "FROM users \n",
      "WHERE users.id = ?\n",
      "2018-12-13 16:19:12,829 INFO sqlalchemy.engine.base.Engine (1,)\n",
      "2018-12-13 16:19:12,831 INFO sqlalchemy.engine.base.Engine SELECT asks.id AS asks_id, asks.quantity AS asks_quantity, asks.price AS asks_price, asks.user_id AS asks_user_id, asks.status AS asks_status, asks.created AS asks_created, asks.updated AS asks_updated \n",
      "FROM asks \n",
      "WHERE ? = asks.user_id\n",
      "2018-12-13 16:19:12,832 INFO sqlalchemy.engine.base.Engine (1,)\n"
     ]
    },
    {
     "data": {
      "text/plain": [
       "[<Ask(id='1', quantity='3', price='3456', user_id='1', status='True')>]"
      ]
     },
     "execution_count": 16,
     "metadata": {},
     "output_type": "execute_result"
    }
   ],
   "source": [
    "u1.asks"
   ]
  },
  {
   "cell_type": "code",
   "execution_count": null,
   "metadata": {},
   "outputs": [],
   "source": []
  }
 ],
 "metadata": {
  "kernelspec": {
   "display_name": "Python 3",
   "language": "python",
   "name": "python3"
  },
  "language_info": {
   "codemirror_mode": {
    "name": "ipython",
    "version": 3
   },
   "file_extension": ".py",
   "mimetype": "text/x-python",
   "name": "python",
   "nbconvert_exporter": "python",
   "pygments_lexer": "ipython3",
   "version": "3.7.0"
  }
 },
 "nbformat": 4,
 "nbformat_minor": 2
}
