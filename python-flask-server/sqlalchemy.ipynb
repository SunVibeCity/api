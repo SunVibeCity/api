{
 "cells": [
  {
   "cell_type": "code",
   "execution_count": 1,
   "metadata": {},
   "outputs": [
    {
     "data": {
      "text/plain": [
       "'1.2.11'"
      ]
     },
     "execution_count": 1,
     "metadata": {},
     "output_type": "execute_result"
    }
   ],
   "source": [
    "import sqlalchemy\n",
    "sqlalchemy.__version__"
   ]
  },
  {
   "cell_type": "code",
   "execution_count": 2,
   "metadata": {},
   "outputs": [],
   "source": [
    "from sqlalchemy import create_engine\n",
    "engine = create_engine('sqlite:///foo.db', echo=True)"
   ]
  },
  {
   "cell_type": "code",
   "execution_count": 3,
   "metadata": {},
   "outputs": [],
   "source": [
    "from sqlalchemy.ext.declarative import declarative_base\n",
    "\n",
    "Base = declarative_base()"
   ]
  },
  {
   "cell_type": "code",
   "execution_count": null,
   "metadata": {},
   "outputs": [],
   "source": [
    "from sqlalchemy import Column, Integer, String\n",
    "class User(Base):\n",
    "    __tablename__ = 'users'\n",
    "    id = Column(Integer, primary_key=True)\n",
    "    name = Column(String)\n",
    "    fullname = Column(String)\n",
    "    password = Column(String)\n",
    "\n",
    "    def __repr__(self):\n",
    "        return \"<User(name='%s', fullname='%s', password='%s')>\" % (self.name, self.fullname, self.password)"
   ]
  },
  {
   "cell_type": "code",
   "execution_count": null,
   "metadata": {},
   "outputs": [],
   "source": [
    "u = User()"
   ]
  },
  {
   "cell_type": "code",
   "execution_count": null,
   "metadata": {},
   "outputs": [],
   "source": [
    "repr(u)"
   ]
  },
  {
   "cell_type": "code",
   "execution_count": null,
   "metadata": {},
   "outputs": [],
   "source": [
    "User.__table__"
   ]
  },
  {
   "cell_type": "code",
   "execution_count": null,
   "metadata": {},
   "outputs": [],
   "source": [
    "Base.metadata.create_all(engine)"
   ]
  },
  {
   "cell_type": "code",
   "execution_count": null,
   "metadata": {},
   "outputs": [],
   "source": [
    "Base.metadata.create_all(bind=engine)"
   ]
  },
  {
   "cell_type": "code",
   "execution_count": null,
   "metadata": {},
   "outputs": [],
   "source": [
    "ed_user = User(name='ed', fullname='Ed Jones', password='edspassword')"
   ]
  },
  {
   "cell_type": "code",
   "execution_count": 8,
   "metadata": {},
   "outputs": [],
   "source": [
    "from sqlalchemy.orm import sessionmaker\n",
    "Session = sessionmaker(bind=engine)"
   ]
  },
  {
   "cell_type": "code",
   "execution_count": 9,
   "metadata": {},
   "outputs": [],
   "source": [
    "session = Session()"
   ]
  },
  {
   "cell_type": "code",
   "execution_count": null,
   "metadata": {},
   "outputs": [],
   "source": [
    "session.add(ed_user)"
   ]
  },
  {
   "cell_type": "code",
   "execution_count": null,
   "metadata": {},
   "outputs": [],
   "source": [
    "session.flush()"
   ]
  },
  {
   "cell_type": "code",
   "execution_count": null,
   "metadata": {},
   "outputs": [],
   "source": [
    "session.query(User).count()"
   ]
  },
  {
   "cell_type": "code",
   "execution_count": null,
   "metadata": {},
   "outputs": [],
   "source": [
    "session.flush()"
   ]
  },
  {
   "cell_type": "code",
   "execution_count": null,
   "metadata": {},
   "outputs": [],
   "source": [
    "u = session.query(User)"
   ]
  },
  {
   "cell_type": "code",
   "execution_count": null,
   "metadata": {},
   "outputs": [],
   "source": [
    "u.all()"
   ]
  },
  {
   "cell_type": "code",
   "execution_count": null,
   "metadata": {},
   "outputs": [],
   "source": [
    "session.dirty"
   ]
  },
  {
   "cell_type": "code",
   "execution_count": null,
   "metadata": {},
   "outputs": [],
   "source": [
    "session.new"
   ]
  },
  {
   "cell_type": "code",
   "execution_count": null,
   "metadata": {},
   "outputs": [],
   "source": [
    "session.commit()"
   ]
  },
  {
   "cell_type": "code",
   "execution_count": null,
   "metadata": {},
   "outputs": [],
   "source": [
    "ed_user.id"
   ]
  },
  {
   "cell_type": "code",
   "execution_count": null,
   "metadata": {},
   "outputs": [],
   "source": [
    "for instance in session.query(User).order_by(User.id):\n",
    "    print(instance.name, instance.fullname)"
   ]
  },
  {
   "cell_type": "code",
   "execution_count": null,
   "metadata": {},
   "outputs": [],
   "source": [
    "from sqlalchemy import ForeignKey\n",
    "from sqlalchemy.orm import relationship\n",
    "\n",
    "class Address(Base):\n",
    "    __tablename__ = 'addresses'\n",
    "    id = Column(Integer, primary_key=True)\n",
    "    email_address = Column(String, nullable=False)\n",
    "    user_id = Column(Integer, ForeignKey('users.id'))\n",
    "\n",
    "    user = relationship(\"User\", back_populates=\"addresses\")\n",
    "\n",
    "    def __repr__(self):\n",
    "        return \"<Address(email_address='%s')>\" % self.email_address\n",
    "\n",
    "User.addresses = relationship(\"Address\", order_by=Address.id, back_populates=\"user\")"
   ]
  },
  {
   "cell_type": "code",
   "execution_count": null,
   "metadata": {},
   "outputs": [],
   "source": [
    "jack = User(name='jack', fullname='Jack Bean', password='gjffdd')\n",
    "jack.addresses"
   ]
  },
  {
   "cell_type": "code",
   "execution_count": null,
   "metadata": {},
   "outputs": [],
   "source": [
    "jack.addresses = [\n",
    "    Address(email_address='jack@google.com'),\n",
    "    Address(email_address='j25@yahoo.com')]"
   ]
  },
  {
   "cell_type": "code",
   "execution_count": null,
   "metadata": {},
   "outputs": [],
   "source": [
    "jack.addresses"
   ]
  },
  {
   "cell_type": "code",
   "execution_count": null,
   "metadata": {},
   "outputs": [],
   "source": [
    "jack.addresses[1].user"
   ]
  },
  {
   "cell_type": "code",
   "execution_count": 5,
   "metadata": {},
   "outputs": [
    {
     "name": "stdout",
     "output_type": "stream",
     "text": [
      "2018-12-13 11:39:43,385 INFO sqlalchemy.engine.base.Engine SELECT CAST('test plain returns' AS VARCHAR(60)) AS anon_1\n",
      "2018-12-13 11:39:43,386 INFO sqlalchemy.engine.base.Engine ()\n",
      "2018-12-13 11:39:43,387 INFO sqlalchemy.engine.base.Engine SELECT CAST('test unicode returns' AS VARCHAR(60)) AS anon_1\n",
      "2018-12-13 11:39:43,388 INFO sqlalchemy.engine.base.Engine ()\n",
      "2018-12-13 11:39:43,389 INFO sqlalchemy.engine.base.Engine PRAGMA table_info(\"userska\")\n",
      "2018-12-13 11:39:43,390 INFO sqlalchemy.engine.base.Engine ()\n",
      "2018-12-13 11:39:43,392 INFO sqlalchemy.engine.base.Engine \n",
      "CREATE TABLE userska (\n",
      "\tid INTEGER NOT NULL, \n",
      "\tusername VARCHAR(31) NOT NULL, \n",
      "\tpassword VARCHAR(31), \n",
      "\tname VARCHAR(255), \n",
      "\temail VARCHAR(255), \n",
      "\tphone VARCHAR(255), \n",
      "\tadmin BOOLEAN, \n",
      "\tinvestor BOOLEAN, \n",
      "\tlocale VARCHAR(5), \n",
      "\tverified BOOLEAN, \n",
      "\tblocked BOOLEAN, \n",
      "\tcreated DATETIME DEFAULT (datetime('now')), \n",
      "\tupdated DATETIME DEFAULT (datetime('now')), \n",
      "\tPRIMARY KEY (id), \n",
      "\tUNIQUE (username), \n",
      "\tCHECK (admin IN (0, 1)), \n",
      "\tCHECK (investor IN (0, 1)), \n",
      "\tCHECK (verified IN (0, 1)), \n",
      "\tCHECK (blocked IN (0, 1))\n",
      ")\n",
      "\n",
      "\n",
      "2018-12-13 11:39:43,393 INFO sqlalchemy.engine.base.Engine ()\n",
      "2018-12-13 11:39:43,396 INFO sqlalchemy.engine.base.Engine COMMIT\n"
     ]
    }
   ],
   "source": [
    "Base.metadata.create_all(engine)"
   ]
  },
  {
   "cell_type": "code",
   "execution_count": null,
   "metadata": {},
   "outputs": [],
   "source": [
    "session.add(jack)"
   ]
  },
  {
   "cell_type": "code",
   "execution_count": null,
   "metadata": {},
   "outputs": [],
   "source": [
    "session.new"
   ]
  },
  {
   "cell_type": "code",
   "execution_count": null,
   "metadata": {},
   "outputs": [],
   "source": [
    "session.commit()"
   ]
  },
  {
   "cell_type": "code",
   "execution_count": 4,
   "metadata": {},
   "outputs": [],
   "source": [
    "from sqlalchemy import Column, DateTime, Integer, String, Boolean, text\n",
    "\n",
    "class Userka(Base):\n",
    "    __tablename__ = 'userska'\n",
    "    id = Column(Integer, primary_key=True)\n",
    "    username = Column(String(31), unique=True, nullable=False)\n",
    "    password = Column(String(31))\n",
    "    name = Column(String(255))\n",
    "    email = Column(String(255))\n",
    "    phone = Column(String(255))\n",
    "    admin = Column(Boolean, default=False)\n",
    "    investor = Column(Boolean, default=False)\n",
    "    locale = Column(String(5), default='en_US')\n",
    "    verified = Column(Boolean, default=False)\n",
    "    blocked = Column(Boolean, default=False)\n",
    "    created = Column(DateTime(), server_default=text(\"(datetime('now'))\"))\n",
    "    updated = Column(DateTime(), server_default=text(\"(datetime('now'))\"))\n",
    "    \n",
    "    def __repr__(self):\n",
    "        return \"<Userka(username='%s', email='%s', phone='%s')>\" % (self.username, self.email, self.phone)\n",
    "\n",
    "    def dump(self):\n",
    "        return dict([(k, v) for k, v in vars(self).items() if not k.startswith('_')])"
   ]
  },
  {
   "cell_type": "code",
   "execution_count": 6,
   "metadata": {},
   "outputs": [
    {
     "data": {
      "text/plain": [
       "<Userka(username='pericaperic', email='None', phone='None')>"
      ]
     },
     "execution_count": 6,
     "metadata": {},
     "output_type": "execute_result"
    }
   ],
   "source": [
    "kaka = Userka(username='pericaperic')\n",
    "kaka"
   ]
  },
  {
   "cell_type": "code",
   "execution_count": null,
   "metadata": {},
   "outputs": [],
   "source": [
    "kaka.locale"
   ]
  },
  {
   "cell_type": "code",
   "execution_count": 10,
   "metadata": {},
   "outputs": [],
   "source": [
    "session.add(kaka)"
   ]
  },
  {
   "cell_type": "code",
   "execution_count": 11,
   "metadata": {},
   "outputs": [
    {
     "data": {
      "text/plain": [
       "IdentitySet([<Userka(username='pericaperic', email='None', phone='None')>])"
      ]
     },
     "execution_count": 11,
     "metadata": {},
     "output_type": "execute_result"
    }
   ],
   "source": [
    "session.new"
   ]
  },
  {
   "cell_type": "code",
   "execution_count": 12,
   "metadata": {},
   "outputs": [
    {
     "name": "stdout",
     "output_type": "stream",
     "text": [
      "2018-12-13 11:40:09,483 INFO sqlalchemy.engine.base.Engine BEGIN (implicit)\n",
      "2018-12-13 11:40:09,485 INFO sqlalchemy.engine.base.Engine INSERT INTO userska (username, password, name, email, phone, admin, investor, locale, verified, blocked) VALUES (?, ?, ?, ?, ?, ?, ?, ?, ?, ?)\n",
      "2018-12-13 11:40:09,486 INFO sqlalchemy.engine.base.Engine ('pericaperic', None, None, None, None, 0, 0, 'en_US', 0, 0)\n",
      "2018-12-13 11:40:09,488 INFO sqlalchemy.engine.base.Engine COMMIT\n"
     ]
    }
   ],
   "source": [
    "session.commit()"
   ]
  },
  {
   "cell_type": "code",
   "execution_count": 13,
   "metadata": {},
   "outputs": [
    {
     "name": "stdout",
     "output_type": "stream",
     "text": [
      "2018-12-13 11:40:12,962 INFO sqlalchemy.engine.base.Engine BEGIN (implicit)\n",
      "2018-12-13 11:40:12,964 INFO sqlalchemy.engine.base.Engine SELECT userska.id AS userska_id, userska.username AS userska_username, userska.password AS userska_password, userska.name AS userska_name, userska.email AS userska_email, userska.phone AS userska_phone, userska.admin AS userska_admin, userska.investor AS userska_investor, userska.locale AS userska_locale, userska.verified AS userska_verified, userska.blocked AS userska_blocked, userska.created AS userska_created, userska.updated AS userska_updated \n",
      "FROM userska\n",
      "2018-12-13 11:40:12,965 INFO sqlalchemy.engine.base.Engine ()\n"
     ]
    },
    {
     "data": {
      "text/plain": [
       "[<Userka(username='pericaperic', email='None', phone='None')>]"
      ]
     },
     "execution_count": 13,
     "metadata": {},
     "output_type": "execute_result"
    }
   ],
   "source": [
    "session.query(Userka).all()"
   ]
  },
  {
   "cell_type": "code",
   "execution_count": 14,
   "metadata": {},
   "outputs": [
    {
     "data": {
      "text/plain": [
       "{'investor': False,\n",
       " 'phone': None,\n",
       " 'name': None,\n",
       " 'username': 'pericaperic',\n",
       " 'updated': datetime.datetime(2018, 12, 13, 4, 40, 9),\n",
       " 'blocked': False,\n",
       " 'locale': 'en_US',\n",
       " 'admin': False,\n",
       " 'email': None,\n",
       " 'password': None,\n",
       " 'id': 1,\n",
       " 'created': datetime.datetime(2018, 12, 13, 4, 40, 9),\n",
       " 'verified': False}"
      ]
     },
     "execution_count": 14,
     "metadata": {},
     "output_type": "execute_result"
    }
   ],
   "source": [
    "kaka.dump()"
   ]
  },
  {
   "cell_type": "code",
   "execution_count": 16,
   "metadata": {},
   "outputs": [
    {
     "data": {
      "text/plain": [
       "{'_sa_instance_state': <sqlalchemy.orm.state.InstanceState at 0x1030ec0b8>,\n",
       " 'investor': False,\n",
       " 'phone': None,\n",
       " 'name': None,\n",
       " 'username': 'pericaperic',\n",
       " 'updated': datetime.datetime(2018, 12, 13, 4, 40, 9),\n",
       " 'blocked': False,\n",
       " 'locale': 'en_US',\n",
       " 'admin': False,\n",
       " 'email': None,\n",
       " 'password': None,\n",
       " 'id': 1,\n",
       " 'created': datetime.datetime(2018, 12, 13, 4, 40, 9),\n",
       " 'verified': False}"
      ]
     },
     "execution_count": 16,
     "metadata": {},
     "output_type": "execute_result"
    }
   ],
   "source": [
    "vars(kaka)"
   ]
  },
  {
   "cell_type": "code",
   "execution_count": 19,
   "metadata": {},
   "outputs": [
    {
     "data": {
      "text/plain": [
       "[('investor', False),\n",
       " ('phone', None),\n",
       " ('name', None),\n",
       " ('username', 'pericaperic'),\n",
       " ('updated', datetime.datetime(2018, 12, 13, 4, 40, 9)),\n",
       " ('blocked', False),\n",
       " ('locale', 'en_US'),\n",
       " ('admin', False),\n",
       " ('email', None),\n",
       " ('password', None),\n",
       " ('id', 1),\n",
       " ('created', datetime.datetime(2018, 12, 13, 4, 40, 9)),\n",
       " ('verified', False)]"
      ]
     },
     "execution_count": 19,
     "metadata": {},
     "output_type": "execute_result"
    }
   ],
   "source": [
    "[(k, v) for k, v in vars(kaka).items() if not k.startswith('_')]"
   ]
  },
  {
   "cell_type": "code",
   "execution_count": 20,
   "metadata": {},
   "outputs": [
    {
     "data": {
      "text/plain": [
       "('oliver', 'nadj')"
      ]
     },
     "execution_count": 20,
     "metadata": {},
     "output_type": "execute_result"
    }
   ],
   "source": [
    "('oliver','nadj')"
   ]
  },
  {
   "cell_type": "code",
   "execution_count": 23,
   "metadata": {},
   "outputs": [
    {
     "data": {
      "text/plain": [
       "0"
      ]
     },
     "execution_count": 23,
     "metadata": {},
     "output_type": "execute_result"
    }
   ],
   "source": [
    "len({})"
   ]
  },
  {
   "cell_type": "code",
   "execution_count": null,
   "metadata": {},
   "outputs": [],
   "source": []
  }
 ],
 "metadata": {
  "kernelspec": {
   "display_name": "Python 3",
   "language": "python",
   "name": "python3"
  },
  "language_info": {
   "codemirror_mode": {
    "name": "ipython",
    "version": 3
   },
   "file_extension": ".py",
   "mimetype": "text/x-python",
   "name": "python",
   "nbconvert_exporter": "python",
   "pygments_lexer": "ipython3",
   "version": "3.7.0"
  }
 },
 "nbformat": 4,
 "nbformat_minor": 2
}
