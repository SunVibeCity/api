{
 "cells": [
  {
   "cell_type": "code",
   "execution_count": 1,
   "metadata": {},
   "outputs": [],
   "source": [
    "from sqlalchemy import Column, DateTime, Integer, String, Boolean, ForeignKey, create_engine, text\n",
    "from sqlalchemy.ext.declarative import declarative_base\n",
    "from sqlalchemy.orm import scoped_session, sessionmaker, relationship\n",
    "import os\n",
    "import datetime\n",
    "if os.path.exists(\"orm-test.db\"):\n",
    "    os.remove(\"orm-test.db\")\n",
    "engine = create_engine('sqlite:///orm-test.db', echo=True, convert_unicode=True)\n",
    "Base = declarative_base()"
   ]
  },
  {
   "cell_type": "code",
   "execution_count": 2,
   "metadata": {},
   "outputs": [],
   "source": [
    "class User(Base):\n",
    "    __tablename__ = 'users'\n",
    "    id = Column(Integer, primary_key=True)\n",
    "    username = Column(String(31), unique=True, nullable=False)\n",
    "    password = Column(String(31))\n",
    "    name = Column(String(255))\n",
    "    email = Column(String(255))\n",
    "    phone = Column(String(255))\n",
    "    admin = Column(Boolean, default=False)\n",
    "    investor = Column(Boolean, default=False)\n",
    "    locale = Column(String(5), default='en_US')\n",
    "    verified = Column(Boolean, default=False)\n",
    "    blocked = Column(Boolean, default=False)\n",
    "    created = Column(DateTime(), server_default=text(\"(datetime('now'))\"))\n",
    "    updated = Column(DateTime(), server_default=text(\"(datetime('now'))\"))\n",
    "    bids = relationship(\"Bid\", back_populates=\"bidder\")\n",
    "    asks = relationship(\"Ask\", back_populates=\"investor\")\n",
    "    sells = relationship(\"Exchange\", back_populates=\"seller\", primaryjoin=\"Exchange.seller_id==User.id\")\n",
    "    purchases = relationship(\"Exchange\", back_populates=\"buyer\", primaryjoin=\"Exchange.buyer_id==User.id\")\n",
    "\n",
    "    def __repr__(self):\n",
    "        return \"<User(id='%s', username='%s', email='%s', phone='%s', admin='%s', verified='%s', blocked='%s')>\" % (\n",
    "            self.id, self.username, self.email, self.phone, self.admin, self.verified, self.blocked\n",
    "        )\n",
    "\n",
    "    def update(self, **kwargs):\n",
    "        if len(kwargs):\n",
    "            self.updated = datetime.datetime.utcnow()\n",
    "            p = ('username', 'password', 'name', 'email', 'phone', 'admin', 'investor', 'locale', 'verified', 'blocked')\n",
    "            for k, v in kwargs.items():\n",
    "                if k in p:\n",
    "                    self.__setattr__(k, v)\n",
    "\n",
    "    def dump(self):\n",
    "        return dict([(k, v) for k, v in vars(self).items() if not k.startswith('_')])\n",
    "\n",
    "\n",
    "class Bid(Base):\n",
    "    __tablename__ = 'bids'\n",
    "    id = Column(Integer, primary_key=True)\n",
    "    symbol = Column(String(15), ForeignKey('companies.id'), nullable=False)\n",
    "    quantity = Column(Integer)\n",
    "    price = Column(Integer)\n",
    "    user_id = Column(Integer, ForeignKey('users.id'), nullable=False)\n",
    "    active = Column(Boolean, default=True)\n",
    "    created = Column(DateTime(), server_default=text(\"(datetime('now'))\"))\n",
    "    updated = Column(DateTime(), server_default=text(\"(datetime('now'))\"))\n",
    "    bidder = relationship(\"User\", back_populates=\"bids\")\n",
    "    company = relationship(\"Company\", back_populates=\"bids\")\n",
    "\n",
    "    def __repr__(self):\n",
    "        return \"<Bid(id='%s', symbol='%s', quantity='%s', price='%s', user_id='%s', status='%s')>\" % (\n",
    "            self.id, self.symbol, self.quantity, self.price, self.user_id, self.status\n",
    "        )\n",
    "\n",
    "    def update(self, **kwargs):\n",
    "        if len(kwargs):\n",
    "            self.updated = datetime.datetime.utcnow()\n",
    "            p = ('quantity', 'price', 'bidder', 'status')\n",
    "            for k, v in kwargs.items():\n",
    "                if k in p:\n",
    "                    self.__setattr__(k, v)\n",
    "\n",
    "    def dump(self):\n",
    "        return dict([(k, v) for k, v in vars(self).items() if not k.startswith('_')])\n",
    "\n",
    "\n",
    "class Ask(Base):\n",
    "    __tablename__ = 'asks'\n",
    "    id = Column(Integer, primary_key=True)\n",
    "    symbol = Column(String(15), ForeignKey('companies.id'), nullable=False)\n",
    "    quantity = Column(Integer)\n",
    "    price = Column(Integer)\n",
    "    user_id = Column(Integer, ForeignKey('users.id'), nullable=False)\n",
    "    active = Column(Boolean, default=True)\n",
    "    created = Column(DateTime(), server_default=text(\"(datetime('now'))\"))\n",
    "    updated = Column(DateTime(), server_default=text(\"(datetime('now'))\"))\n",
    "    investor = relationship(\"User\", back_populates=\"asks\")\n",
    "    company = relationship(\"Company\", back_populates=\"asks\")\n",
    "\n",
    "    def __repr__(self):\n",
    "        return \"<Ask(id='%s', symbol='%s', quantity='%s', price='%s', user_id='%s', status='%s')>\" % (\n",
    "            self.id, self.symbol, self.quantity, self.price, self.user_id, self.status\n",
    "        )\n",
    "\n",
    "    def update(self, **kwargs):\n",
    "        if len(kwargs):\n",
    "            self.updated = datetime.datetime.utcnow()\n",
    "            p = ('quantity', 'price', 'bidder', 'status')\n",
    "            for k, v in kwargs.items():\n",
    "                if k in p:\n",
    "                    self.__setattr__(k, v)\n",
    "\n",
    "    def dump(self):\n",
    "        return dict([(k, v) for k, v in vars(self).items() if not k.startswith('_')])\n",
    "\n",
    "\n",
    "class Exchange(Base):\n",
    "    __tablename__ = 'exchanges'\n",
    "    id = Column(Integer, primary_key=True)\n",
    "    symbol = Column(String(15), ForeignKey('companies.id'), nullable=False)\n",
    "    quantity = Column(Integer)\n",
    "    price = Column(Integer)\n",
    "    seller_id = Column(Integer, ForeignKey('users.id'), nullable=False)\n",
    "    buyer_id = Column(Integer, ForeignKey('users.id'), nullable=False)\n",
    "    created = Column(DateTime(), server_default=text(\"(datetime('now'))\"))\n",
    "    seller = relationship(\"User\", back_populates=\"sells\", primaryjoin=\"User.id==Exchange.seller_id\")\n",
    "    buyer = relationship(\"User\", back_populates=\"purchases\", primaryjoin=\"User.id==Exchange.buyer_id\")\n",
    "    company = relationship(\"Company\", back_populates=\"exchanges\")\n",
    "\n",
    "    def __repr__(self):\n",
    "        return \"<Exchange(id='%s', symbol='%s', quantity='%s', price='%s', seller_id='%s', buyer_id='%s')>\" % (\n",
    "            self.id, self.symbol, self.quantity, self.price, self.seller_id, self.buyer_id\n",
    "        )\n",
    "\n",
    "    def update(self, **kwargs):\n",
    "        pass\n",
    "\n",
    "    def dump(self):\n",
    "        return dict([(k, v) for k, v in vars(self).items() if not k.startswith('_')])\n",
    "\n",
    "\n",
    "class Company(Base):\n",
    "    __tablename__ = 'companies'\n",
    "    id = Column(Integer, primary_key=True)\n",
    "    symbol = Column(String(15), unique=True, nullable=False)\n",
    "    company_name = Column(String(255), nullable=False)\n",
    "    industry = Column(String(255))\n",
    "    website = Column(String(255))\n",
    "    description = Column(String)\n",
    "    sector = Column(String(255))\n",
    "    tags = Column(String)\n",
    "    created = Column(DateTime(), server_default=text(\"(datetime('now'))\"))\n",
    "    updated = Column(DateTime(), server_default=text(\"(datetime('now'))\"))\n",
    "    bids = relationship(\"Bid\", back_populates=\"company\")\n",
    "    asks = relationship(\"Ask\", back_populates=\"company\")\n",
    "    exchanges = relationship(\"Exchange\", back_populates=\"company\")\n",
    "\n",
    "    def __repr__(self):\n",
    "        return \"<Company(id='%s', symbol='%s', company_name='%s', website='%s')>\" % (\n",
    "            self.id, self.symbol, self.company_name, self.website\n",
    "        )\n",
    "\n",
    "    def update(self, **kwargs):\n",
    "        if len(kwargs):\n",
    "            self.updated = datetime.datetime.utcnow()\n",
    "            p = ('symbol', 'company_name', 'industry', 'website', 'description', 'sector', 'tags')\n",
    "            for k, v in kwargs.items():\n",
    "                if k in p:\n",
    "                    self.__setattr__(k, v)\n",
    "\n",
    "    def dump(self):\n",
    "        return dict([(k, v) for k, v in vars(self).items() if not k.startswith('_')])"
   ]
  },
  {
   "cell_type": "code",
   "execution_count": 3,
   "metadata": {},
   "outputs": [],
   "source": [
    "db_session = scoped_session(sessionmaker(autocommit=False, autoflush=False, bind=engine))"
   ]
  },
  {
   "cell_type": "code",
   "execution_count": 4,
   "metadata": {},
   "outputs": [],
   "source": [
    "Base.query = db_session.query_property()"
   ]
  },
  {
   "cell_type": "code",
   "execution_count": 5,
   "metadata": {},
   "outputs": [
    {
     "name": "stdout",
     "output_type": "stream",
     "text": [
      "2018-12-14 19:08:41,001 INFO sqlalchemy.engine.base.Engine SELECT CAST('test plain returns' AS VARCHAR(60)) AS anon_1\n",
      "2018-12-14 19:08:41,002 INFO sqlalchemy.engine.base.Engine ()\n",
      "2018-12-14 19:08:41,003 INFO sqlalchemy.engine.base.Engine SELECT CAST('test unicode returns' AS VARCHAR(60)) AS anon_1\n",
      "2018-12-14 19:08:41,004 INFO sqlalchemy.engine.base.Engine ()\n",
      "2018-12-14 19:08:41,005 INFO sqlalchemy.engine.base.Engine PRAGMA table_info(\"users\")\n",
      "2018-12-14 19:08:41,006 INFO sqlalchemy.engine.base.Engine ()\n",
      "2018-12-14 19:08:41,008 INFO sqlalchemy.engine.base.Engine PRAGMA table_info(\"bids\")\n",
      "2018-12-14 19:08:41,008 INFO sqlalchemy.engine.base.Engine ()\n",
      "2018-12-14 19:08:41,009 INFO sqlalchemy.engine.base.Engine PRAGMA table_info(\"asks\")\n",
      "2018-12-14 19:08:41,011 INFO sqlalchemy.engine.base.Engine ()\n",
      "2018-12-14 19:08:41,012 INFO sqlalchemy.engine.base.Engine PRAGMA table_info(\"exchanges\")\n",
      "2018-12-14 19:08:41,013 INFO sqlalchemy.engine.base.Engine ()\n",
      "2018-12-14 19:08:41,014 INFO sqlalchemy.engine.base.Engine PRAGMA table_info(\"companies\")\n",
      "2018-12-14 19:08:41,014 INFO sqlalchemy.engine.base.Engine ()\n",
      "2018-12-14 19:08:41,017 INFO sqlalchemy.engine.base.Engine \n",
      "CREATE TABLE users (\n",
      "\tid INTEGER NOT NULL, \n",
      "\tusername VARCHAR(31) NOT NULL, \n",
      "\tpassword VARCHAR(31), \n",
      "\tname VARCHAR(255), \n",
      "\temail VARCHAR(255), \n",
      "\tphone VARCHAR(255), \n",
      "\tadmin BOOLEAN, \n",
      "\tinvestor BOOLEAN, \n",
      "\tlocale VARCHAR(5), \n",
      "\tverified BOOLEAN, \n",
      "\tblocked BOOLEAN, \n",
      "\tcreated DATETIME DEFAULT (datetime('now')), \n",
      "\tupdated DATETIME DEFAULT (datetime('now')), \n",
      "\tPRIMARY KEY (id), \n",
      "\tUNIQUE (username), \n",
      "\tCHECK (admin IN (0, 1)), \n",
      "\tCHECK (investor IN (0, 1)), \n",
      "\tCHECK (verified IN (0, 1)), \n",
      "\tCHECK (blocked IN (0, 1))\n",
      ")\n",
      "\n",
      "\n",
      "2018-12-14 19:08:41,018 INFO sqlalchemy.engine.base.Engine ()\n",
      "2018-12-14 19:08:41,021 INFO sqlalchemy.engine.base.Engine COMMIT\n",
      "2018-12-14 19:08:41,023 INFO sqlalchemy.engine.base.Engine \n",
      "CREATE TABLE companies (\n",
      "\tid INTEGER NOT NULL, \n",
      "\tsymbol VARCHAR(15) NOT NULL, \n",
      "\tcompany_name VARCHAR(255) NOT NULL, \n",
      "\tindustry VARCHAR(255), \n",
      "\twebsite VARCHAR(255), \n",
      "\tdescription VARCHAR, \n",
      "\tsector VARCHAR(255), \n",
      "\ttags VARCHAR, \n",
      "\tcreated DATETIME DEFAULT (datetime('now')), \n",
      "\tupdated DATETIME DEFAULT (datetime('now')), \n",
      "\tPRIMARY KEY (id), \n",
      "\tUNIQUE (symbol)\n",
      ")\n",
      "\n",
      "\n",
      "2018-12-14 19:08:41,024 INFO sqlalchemy.engine.base.Engine ()\n",
      "2018-12-14 19:08:41,027 INFO sqlalchemy.engine.base.Engine COMMIT\n",
      "2018-12-14 19:08:41,028 INFO sqlalchemy.engine.base.Engine \n",
      "CREATE TABLE bids (\n",
      "\tid INTEGER NOT NULL, \n",
      "\tsymbol VARCHAR(15) NOT NULL, \n",
      "\tquantity INTEGER, \n",
      "\tprice INTEGER, \n",
      "\tuser_id INTEGER NOT NULL, \n",
      "\tstatus BOOLEAN, \n",
      "\tcreated DATETIME DEFAULT (datetime('now')), \n",
      "\tupdated DATETIME DEFAULT (datetime('now')), \n",
      "\tPRIMARY KEY (id), \n",
      "\tFOREIGN KEY(symbol) REFERENCES companies (id), \n",
      "\tFOREIGN KEY(user_id) REFERENCES users (id), \n",
      "\tCHECK (status IN (0, 1))\n",
      ")\n",
      "\n",
      "\n",
      "2018-12-14 19:08:41,029 INFO sqlalchemy.engine.base.Engine ()\n",
      "2018-12-14 19:08:41,031 INFO sqlalchemy.engine.base.Engine COMMIT\n",
      "2018-12-14 19:08:41,033 INFO sqlalchemy.engine.base.Engine \n",
      "CREATE TABLE asks (\n",
      "\tid INTEGER NOT NULL, \n",
      "\tsymbol VARCHAR(15) NOT NULL, \n",
      "\tquantity INTEGER, \n",
      "\tprice INTEGER, \n",
      "\tuser_id INTEGER NOT NULL, \n",
      "\tstatus BOOLEAN, \n",
      "\tcreated DATETIME DEFAULT (datetime('now')), \n",
      "\tupdated DATETIME DEFAULT (datetime('now')), \n",
      "\tPRIMARY KEY (id), \n",
      "\tFOREIGN KEY(symbol) REFERENCES companies (id), \n",
      "\tFOREIGN KEY(user_id) REFERENCES users (id), \n",
      "\tCHECK (status IN (0, 1))\n",
      ")\n",
      "\n",
      "\n",
      "2018-12-14 19:08:41,034 INFO sqlalchemy.engine.base.Engine ()\n",
      "2018-12-14 19:08:41,036 INFO sqlalchemy.engine.base.Engine COMMIT\n",
      "2018-12-14 19:08:41,037 INFO sqlalchemy.engine.base.Engine \n",
      "CREATE TABLE exchanges (\n",
      "\tid INTEGER NOT NULL, \n",
      "\tsymbol VARCHAR(15) NOT NULL, \n",
      "\tquantity INTEGER, \n",
      "\tprice INTEGER, \n",
      "\tseller_id INTEGER NOT NULL, \n",
      "\tbuyer_id INTEGER NOT NULL, \n",
      "\tcreated DATETIME DEFAULT (datetime('now')), \n",
      "\tPRIMARY KEY (id), \n",
      "\tFOREIGN KEY(symbol) REFERENCES companies (id), \n",
      "\tFOREIGN KEY(seller_id) REFERENCES users (id), \n",
      "\tFOREIGN KEY(buyer_id) REFERENCES users (id)\n",
      ")\n",
      "\n",
      "\n",
      "2018-12-14 19:08:41,038 INFO sqlalchemy.engine.base.Engine ()\n",
      "2018-12-14 19:08:41,040 INFO sqlalchemy.engine.base.Engine COMMIT\n"
     ]
    }
   ],
   "source": [
    "Base.metadata.create_all(bind=engine)"
   ]
  },
  {
   "cell_type": "code",
   "execution_count": 6,
   "metadata": {},
   "outputs": [
    {
     "name": "stdout",
     "output_type": "stream",
     "text": [
      "2018-12-14 19:08:41,258 INFO sqlalchemy.engine.base.Engine BEGIN (implicit)\n",
      "2018-12-14 19:08:41,260 INFO sqlalchemy.engine.base.Engine INSERT INTO users (username, password, name, email, phone, admin, investor, locale, verified, blocked) VALUES (?, ?, ?, ?, ?, ?, ?, ?, ?, ?)\n",
      "2018-12-14 19:08:41,261 INFO sqlalchemy.engine.base.Engine ('pericaperic', None, None, None, None, 0, 0, 'en_US', 0, 0)\n",
      "2018-12-14 19:08:41,263 INFO sqlalchemy.engine.base.Engine INSERT INTO users (username, password, name, email, phone, admin, investor, locale, verified, blocked) VALUES (?, ?, ?, ?, ?, ?, ?, ?, ?, ?)\n",
      "2018-12-14 19:08:41,264 INFO sqlalchemy.engine.base.Engine ('johndoe', None, None, None, None, 0, 0, 'en_US', 0, 0)\n",
      "2018-12-14 19:08:41,266 INFO sqlalchemy.engine.base.Engine INSERT INTO users (username, password, name, email, phone, admin, investor, locale, verified, blocked) VALUES (?, ?, ?, ?, ?, ?, ?, ?, ?, ?)\n",
      "2018-12-14 19:08:41,266 INFO sqlalchemy.engine.base.Engine ('seletelek', None, None, None, None, 0, 0, 'en_US', 0, 0)\n",
      "2018-12-14 19:08:41,268 INFO sqlalchemy.engine.base.Engine COMMIT\n"
     ]
    }
   ],
   "source": [
    "db_session.add(User(username='pericaperic'))\n",
    "db_session.add(User(username='johndoe'))\n",
    "db_session.add(User(username='seletelek'))\n",
    "db_session.commit()"
   ]
  },
  {
   "cell_type": "code",
   "execution_count": 7,
   "metadata": {},
   "outputs": [
    {
     "name": "stdout",
     "output_type": "stream",
     "text": [
      "2018-12-14 19:08:41,889 INFO sqlalchemy.engine.base.Engine BEGIN (implicit)\n",
      "2018-12-14 19:08:41,891 INFO sqlalchemy.engine.base.Engine INSERT INTO companies (symbol, company_name, industry, website, description, sector, tags) VALUES (?, ?, ?, ?, ?, ?, ?)\n",
      "2018-12-14 19:08:41,891 INFO sqlalchemy.engine.base.Engine ('OLI', 'Oliver LTD.', None, None, None, None, None)\n",
      "2018-12-14 19:08:41,893 INFO sqlalchemy.engine.base.Engine COMMIT\n"
     ]
    }
   ],
   "source": [
    "db_session.add(Company(symbol='OLI', company_name='Oliver LTD.'))\n",
    "db_session.commit()"
   ]
  },
  {
   "cell_type": "code",
   "execution_count": 8,
   "metadata": {},
   "outputs": [
    {
     "name": "stdout",
     "output_type": "stream",
     "text": [
      "2018-12-14 19:08:42,482 INFO sqlalchemy.engine.base.Engine BEGIN (implicit)\n",
      "2018-12-14 19:08:42,484 INFO sqlalchemy.engine.base.Engine SELECT users.id AS users_id, users.username AS users_username, users.password AS users_password, users.name AS users_name, users.email AS users_email, users.phone AS users_phone, users.admin AS users_admin, users.investor AS users_investor, users.locale AS users_locale, users.verified AS users_verified, users.blocked AS users_blocked, users.created AS users_created, users.updated AS users_updated \n",
      "FROM users\n",
      " LIMIT ? OFFSET ?\n",
      "2018-12-14 19:08:42,484 INFO sqlalchemy.engine.base.Engine (3, 0)\n"
     ]
    },
    {
     "data": {
      "text/plain": [
       "(<User(id='1', username='pericaperic', email='None', phone='None', admin='False', verified='False', blocked='False')>,\n",
       " <User(id='2', username='johndoe', email='None', phone='None', admin='False', verified='False', blocked='False')>,\n",
       " <User(id='3', username='seletelek', email='None', phone='None', admin='False', verified='False', blocked='False')>)"
      ]
     },
     "execution_count": 8,
     "metadata": {},
     "output_type": "execute_result"
    }
   ],
   "source": [
    "# u1 = db_session.query(User).filter(User.id == 1).one_or_none()\n",
    "u1, u2, u3 = db_session.query(User).limit(3).all()\n",
    "(u1, u2, u3)"
   ]
  },
  {
   "cell_type": "code",
   "execution_count": 9,
   "metadata": {},
   "outputs": [
    {
     "name": "stdout",
     "output_type": "stream",
     "text": [
      "2018-12-14 19:08:43,377 INFO sqlalchemy.engine.base.Engine SELECT bids.id AS bids_id, bids.symbol AS bids_symbol, bids.quantity AS bids_quantity, bids.price AS bids_price, bids.user_id AS bids_user_id, bids.status AS bids_status, bids.created AS bids_created, bids.updated AS bids_updated \n",
      "FROM bids \n",
      "WHERE ? = bids.user_id\n",
      "2018-12-14 19:08:43,378 INFO sqlalchemy.engine.base.Engine (1,)\n"
     ]
    }
   ],
   "source": [
    "u1.bids.append(Bid(symbol='OLI', quantity=3,price=3456))"
   ]
  },
  {
   "cell_type": "code",
   "execution_count": 10,
   "metadata": {},
   "outputs": [
    {
     "data": {
      "text/plain": [
       "IdentitySet([<Bid(id='None', symbol='OLI', quantity='3', price='3456', user_id='None', status='None')>])"
      ]
     },
     "execution_count": 10,
     "metadata": {},
     "output_type": "execute_result"
    }
   ],
   "source": [
    "db_session.new"
   ]
  },
  {
   "cell_type": "code",
   "execution_count": 11,
   "metadata": {},
   "outputs": [
    {
     "name": "stdout",
     "output_type": "stream",
     "text": [
      "2018-12-14 19:08:44,607 INFO sqlalchemy.engine.base.Engine INSERT INTO bids (symbol, quantity, price, user_id, status) VALUES (?, ?, ?, ?, ?)\n",
      "2018-12-14 19:08:44,608 INFO sqlalchemy.engine.base.Engine ('OLI', 3, 3456, 1, 1)\n",
      "2018-12-14 19:08:44,610 INFO sqlalchemy.engine.base.Engine COMMIT\n"
     ]
    }
   ],
   "source": [
    "db_session.commit()"
   ]
  },
  {
   "cell_type": "code",
   "execution_count": 12,
   "metadata": {},
   "outputs": [
    {
     "name": "stdout",
     "output_type": "stream",
     "text": [
      "2018-12-14 19:08:45,555 INFO sqlalchemy.engine.base.Engine BEGIN (implicit)\n",
      "2018-12-14 19:08:45,556 INFO sqlalchemy.engine.base.Engine SELECT users.id AS users_id, users.username AS users_username, users.password AS users_password, users.name AS users_name, users.email AS users_email, users.phone AS users_phone, users.admin AS users_admin, users.investor AS users_investor, users.locale AS users_locale, users.verified AS users_verified, users.blocked AS users_blocked, users.created AS users_created, users.updated AS users_updated \n",
      "FROM users \n",
      "WHERE users.id = ?\n",
      "2018-12-14 19:08:45,557 INFO sqlalchemy.engine.base.Engine (1,)\n",
      "2018-12-14 19:08:45,559 INFO sqlalchemy.engine.base.Engine SELECT bids.id AS bids_id, bids.symbol AS bids_symbol, bids.quantity AS bids_quantity, bids.price AS bids_price, bids.user_id AS bids_user_id, bids.status AS bids_status, bids.created AS bids_created, bids.updated AS bids_updated \n",
      "FROM bids \n",
      "WHERE ? = bids.user_id\n",
      "2018-12-14 19:08:45,560 INFO sqlalchemy.engine.base.Engine (1,)\n"
     ]
    },
    {
     "data": {
      "text/plain": [
       "[<Bid(id='1', symbol='OLI', quantity='3', price='3456', user_id='1', status='True')>]"
      ]
     },
     "execution_count": 12,
     "metadata": {},
     "output_type": "execute_result"
    }
   ],
   "source": [
    "u1.bids"
   ]
  },
  {
   "cell_type": "code",
   "execution_count": 13,
   "metadata": {},
   "outputs": [
    {
     "name": "stdout",
     "output_type": "stream",
     "text": [
      "2018-12-14 19:08:46,184 INFO sqlalchemy.engine.base.Engine SELECT asks.id AS asks_id, asks.symbol AS asks_symbol, asks.quantity AS asks_quantity, asks.price AS asks_price, asks.user_id AS asks_user_id, asks.status AS asks_status, asks.created AS asks_created, asks.updated AS asks_updated \n",
      "FROM asks \n",
      "WHERE ? = asks.user_id\n",
      "2018-12-14 19:08:46,185 INFO sqlalchemy.engine.base.Engine (1,)\n"
     ]
    }
   ],
   "source": [
    "u1.asks.append(Ask(symbol='OLI', quantity=3,price=3456))"
   ]
  },
  {
   "cell_type": "code",
   "execution_count": 14,
   "metadata": {},
   "outputs": [
    {
     "name": "stdout",
     "output_type": "stream",
     "text": [
      "2018-12-14 19:08:46,919 INFO sqlalchemy.engine.base.Engine INSERT INTO asks (symbol, quantity, price, user_id, status) VALUES (?, ?, ?, ?, ?)\n",
      "2018-12-14 19:08:46,920 INFO sqlalchemy.engine.base.Engine ('OLI', 3, 3456, 1, 1)\n",
      "2018-12-14 19:08:46,922 INFO sqlalchemy.engine.base.Engine COMMIT\n"
     ]
    }
   ],
   "source": [
    "db_session.commit()"
   ]
  },
  {
   "cell_type": "code",
   "execution_count": 15,
   "metadata": {},
   "outputs": [
    {
     "name": "stdout",
     "output_type": "stream",
     "text": [
      "2018-12-14 19:08:47,398 INFO sqlalchemy.engine.base.Engine BEGIN (implicit)\n",
      "2018-12-14 19:08:47,400 INFO sqlalchemy.engine.base.Engine SELECT users.id AS users_id, users.username AS users_username, users.password AS users_password, users.name AS users_name, users.email AS users_email, users.phone AS users_phone, users.admin AS users_admin, users.investor AS users_investor, users.locale AS users_locale, users.verified AS users_verified, users.blocked AS users_blocked, users.created AS users_created, users.updated AS users_updated \n",
      "FROM users \n",
      "WHERE users.id = ?\n",
      "2018-12-14 19:08:47,400 INFO sqlalchemy.engine.base.Engine (1,)\n",
      "2018-12-14 19:08:47,402 INFO sqlalchemy.engine.base.Engine SELECT asks.id AS asks_id, asks.symbol AS asks_symbol, asks.quantity AS asks_quantity, asks.price AS asks_price, asks.user_id AS asks_user_id, asks.status AS asks_status, asks.created AS asks_created, asks.updated AS asks_updated \n",
      "FROM asks \n",
      "WHERE ? = asks.user_id\n",
      "2018-12-14 19:08:47,403 INFO sqlalchemy.engine.base.Engine (1,)\n"
     ]
    },
    {
     "ename": "TypeError",
     "evalue": "'User' object does not support indexing",
     "output_type": "error",
     "traceback": [
      "\u001b[0;31m---------------------------------------------------------------------------\u001b[0m",
      "\u001b[0;31mTypeError\u001b[0m                                 Traceback (most recent call last)",
      "\u001b[0;32m<ipython-input-15-343236e6f59e>\u001b[0m in \u001b[0;36m<module>\u001b[0;34m()\u001b[0m\n\u001b[0;32m----> 1\u001b[0;31m \u001b[0mu1\u001b[0m\u001b[0;34m.\u001b[0m\u001b[0masks\u001b[0m\u001b[0;34m[\u001b[0m\u001b[0;36m0\u001b[0m\u001b[0;34m]\u001b[0m\u001b[0;34m.\u001b[0m\u001b[0minvestor\u001b[0m\u001b[0;34m[\u001b[0m\u001b[0;36m0\u001b[0m\u001b[0;34m]\u001b[0m\u001b[0;34m\u001b[0m\u001b[0m\n\u001b[0m",
      "\u001b[0;31mTypeError\u001b[0m: 'User' object does not support indexing"
     ]
    }
   ],
   "source": [
    "u1.asks[0].investor[0]"
   ]
  },
  {
   "cell_type": "code",
   "execution_count": 16,
   "metadata": {},
   "outputs": [
    {
     "name": "stdout",
     "output_type": "stream",
     "text": [
      "2018-12-14 19:08:48,075 INFO sqlalchemy.engine.base.Engine SELECT exchanges.id AS exchanges_id, exchanges.symbol AS exchanges_symbol, exchanges.quantity AS exchanges_quantity, exchanges.price AS exchanges_price, exchanges.seller_id AS exchanges_seller_id, exchanges.buyer_id AS exchanges_buyer_id, exchanges.created AS exchanges_created \n",
      "FROM exchanges \n",
      "WHERE exchanges.seller_id = ?\n",
      "2018-12-14 19:08:48,076 INFO sqlalchemy.engine.base.Engine (1,)\n"
     ]
    }
   ],
   "source": [
    "u1.sells.append(Exchange(symbol='OLI', quantity=3, price=3456, buyer_id=2))"
   ]
  },
  {
   "cell_type": "code",
   "execution_count": 17,
   "metadata": {},
   "outputs": [
    {
     "name": "stdout",
     "output_type": "stream",
     "text": [
      "2018-12-14 19:08:48,843 INFO sqlalchemy.engine.base.Engine INSERT INTO exchanges (symbol, quantity, price, seller_id, buyer_id) VALUES (?, ?, ?, ?, ?)\n",
      "2018-12-14 19:08:48,844 INFO sqlalchemy.engine.base.Engine ('OLI', 3, 3456, 1, 2)\n",
      "2018-12-14 19:08:48,846 INFO sqlalchemy.engine.base.Engine COMMIT\n"
     ]
    }
   ],
   "source": [
    "db_session.commit()"
   ]
  },
  {
   "cell_type": "code",
   "execution_count": 18,
   "metadata": {},
   "outputs": [
    {
     "name": "stdout",
     "output_type": "stream",
     "text": [
      "2018-12-14 19:08:49,547 INFO sqlalchemy.engine.base.Engine BEGIN (implicit)\n",
      "2018-12-14 19:08:49,549 INFO sqlalchemy.engine.base.Engine SELECT users.id AS users_id, users.username AS users_username, users.password AS users_password, users.name AS users_name, users.email AS users_email, users.phone AS users_phone, users.admin AS users_admin, users.investor AS users_investor, users.locale AS users_locale, users.verified AS users_verified, users.blocked AS users_blocked, users.created AS users_created, users.updated AS users_updated \n",
      "FROM users \n",
      "WHERE users.id = ?\n",
      "2018-12-14 19:08:49,549 INFO sqlalchemy.engine.base.Engine (1,)\n",
      "2018-12-14 19:08:49,551 INFO sqlalchemy.engine.base.Engine SELECT exchanges.id AS exchanges_id, exchanges.symbol AS exchanges_symbol, exchanges.quantity AS exchanges_quantity, exchanges.price AS exchanges_price, exchanges.seller_id AS exchanges_seller_id, exchanges.buyer_id AS exchanges_buyer_id, exchanges.created AS exchanges_created \n",
      "FROM exchanges \n",
      "WHERE exchanges.seller_id = ?\n",
      "2018-12-14 19:08:49,552 INFO sqlalchemy.engine.base.Engine (1,)\n"
     ]
    },
    {
     "data": {
      "text/plain": [
       "[<Exchange(id='1', symbol='OLI', quantity='3', price='3456', seller_id='1', buyer_id='2')>]"
      ]
     },
     "execution_count": 18,
     "metadata": {},
     "output_type": "execute_result"
    }
   ],
   "source": [
    "u1.sells"
   ]
  },
  {
   "cell_type": "code",
   "execution_count": 19,
   "metadata": {},
   "outputs": [
    {
     "name": "stdout",
     "output_type": "stream",
     "text": [
      "2018-12-14 19:08:50,415 INFO sqlalchemy.engine.base.Engine SELECT users.id AS users_id, users.username AS users_username, users.password AS users_password, users.name AS users_name, users.email AS users_email, users.phone AS users_phone, users.admin AS users_admin, users.investor AS users_investor, users.locale AS users_locale, users.verified AS users_verified, users.blocked AS users_blocked, users.created AS users_created, users.updated AS users_updated \n",
      "FROM users \n",
      "WHERE users.id = ?\n",
      "2018-12-14 19:08:50,417 INFO sqlalchemy.engine.base.Engine (2,)\n",
      "2018-12-14 19:08:50,420 INFO sqlalchemy.engine.base.Engine SELECT exchanges.id AS exchanges_id, exchanges.symbol AS exchanges_symbol, exchanges.quantity AS exchanges_quantity, exchanges.price AS exchanges_price, exchanges.seller_id AS exchanges_seller_id, exchanges.buyer_id AS exchanges_buyer_id, exchanges.created AS exchanges_created \n",
      "FROM exchanges \n",
      "WHERE exchanges.buyer_id = ?\n",
      "2018-12-14 19:08:50,420 INFO sqlalchemy.engine.base.Engine (2,)\n"
     ]
    },
    {
     "data": {
      "text/plain": [
       "<User(id='1', username='pericaperic', email='None', phone='None', admin='False', verified='False', blocked='False')>"
      ]
     },
     "execution_count": 19,
     "metadata": {},
     "output_type": "execute_result"
    }
   ],
   "source": [
    "u2.purchases[0].seller"
   ]
  },
  {
   "cell_type": "code",
   "execution_count": 20,
   "metadata": {},
   "outputs": [],
   "source": [
    "u1.update(email='mr.oliver.nadj@gmail.com')"
   ]
  },
  {
   "cell_type": "code",
   "execution_count": 21,
   "metadata": {},
   "outputs": [
    {
     "name": "stdout",
     "output_type": "stream",
     "text": [
      "2018-12-14 19:10:38,792 INFO sqlalchemy.engine.base.Engine UPDATE users SET email=?, updated=? WHERE users.id = ?\n",
      "2018-12-14 19:10:38,794 INFO sqlalchemy.engine.base.Engine ('mr.oliver.nadj@gmail.com', '2018-12-14 12:10:27.955225', 1)\n",
      "2018-12-14 19:10:38,795 INFO sqlalchemy.engine.base.Engine COMMIT\n"
     ]
    }
   ],
   "source": [
    "db_session.commit()"
   ]
  },
  {
   "cell_type": "code",
   "execution_count": 24,
   "metadata": {},
   "outputs": [
    {
     "data": {
      "text/plain": [
       "(datetime.datetime(2018, 12, 14, 12, 10, 27, 955225),\n",
       " datetime.datetime(2018, 12, 14, 12, 8, 41))"
      ]
     },
     "execution_count": 24,
     "metadata": {},
     "output_type": "execute_result"
    }
   ],
   "source": [
    "(u1.updated, u1.created)"
   ]
  },
  {
   "cell_type": "code",
   "execution_count": null,
   "metadata": {},
   "outputs": [],
   "source": []
  }
 ],
 "metadata": {
  "kernelspec": {
   "display_name": "Python 3",
   "language": "python",
   "name": "python3"
  },
  "language_info": {
   "codemirror_mode": {
    "name": "ipython",
    "version": 3
   },
   "file_extension": ".py",
   "mimetype": "text/x-python",
   "name": "python",
   "nbconvert_exporter": "python",
   "pygments_lexer": "ipython3",
   "version": "3.7.0"
  }
 },
 "nbformat": 4,
 "nbformat_minor": 2
}
