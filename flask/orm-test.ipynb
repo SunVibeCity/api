{
 "cells": [
  {
   "cell_type": "code",
   "execution_count": 1,
   "metadata": {},
   "outputs": [],
   "source": [
    "from sqlalchemy import Column, DateTime, Integer, String, Boolean, ForeignKey, create_engine, text, Enum\n",
    "from sqlalchemy.ext.declarative import declarative_base\n",
    "from sqlalchemy.orm import scoped_session, sessionmaker, relationship\n",
    "import os\n",
    "import datetime\n",
    "if os.path.exists(\"orm-test.db\"):\n",
    "    os.remove(\"orm-test.db\")\n",
    "engine = create_engine('sqlite:///orm-test.db', echo=True, convert_unicode=True)\n",
    "Base = declarative_base()"
   ]
  },
  {
   "cell_type": "code",
   "execution_count": 2,
   "metadata": {},
   "outputs": [],
   "source": [
    "class User(Base):\n",
    "    __tablename__ = 'users'\n",
    "    id = Column(Integer, primary_key=True)\n",
    "    username = Column(String(31), unique=True, nullable=False)\n",
    "    password = Column(String(31))\n",
    "    name = Column(String(255))\n",
    "    email = Column(String(255))\n",
    "    phone = Column(String(255))\n",
    "    admin = Column(Boolean, default=False)\n",
    "    investor = Column(Boolean, default=False)\n",
    "    locale = Column(String(5), default='en_US')\n",
    "    verified = Column(Boolean, default=False)\n",
    "    blocked = Column(Boolean, default=False)\n",
    "    created = Column(DateTime(), server_default=text(\"(datetime('now'))\"))\n",
    "    updated = Column(DateTime(), server_default=text(\"(datetime('now'))\"))\n",
    "    bids = relationship(\"Bid\", back_populates=\"bidder\")\n",
    "    asks = relationship(\"Ask\", back_populates=\"investor\")\n",
    "    book = relationship(\"Book\", back_populates=\"owner\")\n",
    "    wallets = relationship(\"Wallet\", back_populates=\"owner\")\n",
    "    transactions = relationship(\"Transaction\", back_populates=\"user\")\n",
    "    sells = relationship(\"Exchange\", back_populates=\"seller\", primaryjoin=\"Exchange.seller_id==User.id\")\n",
    "    purchases = relationship(\"Exchange\", back_populates=\"buyer\", primaryjoin=\"Exchange.buyer_id==User.id\")\n",
    "\n",
    "    def __repr__(self):\n",
    "        return \"<User(id='%s', username='%s', email='%s', phone='%s', admin='%s', verified='%s', blocked='%s')>\" % (\n",
    "            self.id, self.username, self.email, self.phone, self.admin, self.verified, self.blocked\n",
    "        )\n",
    "\n",
    "    def update(self, **kwargs):\n",
    "        if len(kwargs):\n",
    "            self.updated = datetime.datetime.utcnow()\n",
    "            p = ('username', 'password', 'name', 'email', 'phone', 'admin', 'investor', 'locale', 'verified', 'blocked')\n",
    "            for k, v in kwargs.items():\n",
    "                if k in p:\n",
    "                    self.__setattr__(k, v)\n",
    "\n",
    "    def dump(self):\n",
    "        return dict([(k, v) for k, v in vars(self).items() if not k.startswith('_')])\n",
    "\n",
    "\n",
    "class Bid(Base):\n",
    "    __tablename__ = 'bids'\n",
    "    id = Column(Integer, primary_key=True)\n",
    "    symbol = Column(String(15), ForeignKey('companies.id'), nullable=False)\n",
    "    quantity = Column(Integer)\n",
    "    price = Column(Integer)\n",
    "    user_id = Column(Integer, ForeignKey('users.id'), nullable=False)\n",
    "    active = Column(Boolean, default=True)\n",
    "    created = Column(DateTime(), server_default=text(\"(datetime('now'))\"))\n",
    "    updated = Column(DateTime(), server_default=text(\"(datetime('now'))\"))\n",
    "    bidder = relationship(\"User\", back_populates=\"bids\")\n",
    "    company = relationship(\"Company\", back_populates=\"bids\")\n",
    "\n",
    "    def __repr__(self):\n",
    "        return \"<Bid(id='%s', symbol='%s', quantity='%s', price='%s', user_id='%s', active='%s')>\" % (\n",
    "            self.id, self.symbol, self.quantity, self.price, self.user_id, self.active\n",
    "        )\n",
    "\n",
    "    def update(self, **kwargs):\n",
    "        if len(kwargs):\n",
    "            self.updated = datetime.datetime.utcnow()\n",
    "            p = ('quantity', 'price', 'bidder', 'status')\n",
    "            for k, v in kwargs.items():\n",
    "                if k in p:\n",
    "                    self.__setattr__(k, v)\n",
    "\n",
    "    def dump(self):\n",
    "        return dict([(k, v) for k, v in vars(self).items() if not k.startswith('_')])\n",
    "\n",
    "\n",
    "class Ask(Base):\n",
    "    __tablename__ = 'asks'\n",
    "    id = Column(Integer, primary_key=True)\n",
    "    symbol = Column(String(15), ForeignKey('companies.id'), nullable=False)\n",
    "    quantity = Column(Integer)\n",
    "    price = Column(Integer)\n",
    "    user_id = Column(Integer, ForeignKey('users.id'), nullable=False)\n",
    "    active = Column(Boolean, default=True)\n",
    "    created = Column(DateTime(), server_default=text(\"(datetime('now'))\"))\n",
    "    updated = Column(DateTime(), server_default=text(\"(datetime('now'))\"))\n",
    "    investor = relationship(\"User\", back_populates=\"asks\")\n",
    "    company = relationship(\"Company\", back_populates=\"asks\")\n",
    "\n",
    "    def __repr__(self):\n",
    "        return \"<Ask(id='%s', symbol='%s', quantity='%s', price='%s', user_id='%s', active='%s')>\" % (\n",
    "            self.id, self.symbol, self.quantity, self.price, self.user_id, self.active\n",
    "        )\n",
    "\n",
    "    def update(self, **kwargs):\n",
    "        if len(kwargs):\n",
    "            self.updated = datetime.datetime.utcnow()\n",
    "            p = ('quantity', 'price', 'bidder', 'status')\n",
    "            for k, v in kwargs.items():\n",
    "                if k in p:\n",
    "                    self.__setattr__(k, v)\n",
    "\n",
    "    def dump(self):\n",
    "        return dict([(k, v) for k, v in vars(self).items() if not k.startswith('_')])\n",
    "\n",
    "    \n",
    "class Book(Base):\n",
    "    __tablename__ = 'book'\n",
    "    id = Column(Integer, primary_key=True)\n",
    "    symbol = Column(String(15), ForeignKey('companies.id'), nullable=False)\n",
    "    quantity = Column(Integer, nullable=False)\n",
    "    user_id = Column(Integer, ForeignKey('users.id'), nullable=False)\n",
    "    created = Column(DateTime(), server_default=text(\"(datetime('now'))\"))\n",
    "    updated = Column(DateTime(), server_default=text(\"(datetime('now'))\"))\n",
    "    owner = relationship(\"User\", back_populates=\"book\")\n",
    "    company = relationship(\"Company\", back_populates=\"book\")\n",
    "\n",
    "    def __repr__(self):\n",
    "        return \"<Book(id='%s', symbol='%s', quantity='%s', user_id='%s')>\" % (\n",
    "            self.id, self.symbol, self.quantity, self.user_id\n",
    "        )\n",
    "\n",
    "    def update(self, **kwargs):\n",
    "        if len(kwargs):\n",
    "            self.updated = datetime.datetime.utcnow()\n",
    "            p = ('quantity')\n",
    "            for k, v in kwargs.items():\n",
    "                if k in p:\n",
    "                    self.__setattr__(k, v)\n",
    "\n",
    "    def update(self, **kwargs):\n",
    "        pass\n",
    "\n",
    "    def dump(self):\n",
    "        return dict([(k, v) for k, v in vars(self).items() if not k.startswith('_')])    \n",
    "\n",
    "\n",
    "class Wallet(Base):\n",
    "    __tablename__ = 'wallets'\n",
    "    id = Column(Integer, primary_key=True)\n",
    "    currency = Column(String(3), nullable=False, default='VND')\n",
    "    amount = Column(Integer, nullable=False)\n",
    "    user_id = Column(Integer, ForeignKey('users.id'), nullable=False)\n",
    "    created = Column(DateTime(), server_default=text(\"(datetime('now'))\"))\n",
    "    updated = Column(DateTime(), server_default=text(\"(datetime('now'))\"))\n",
    "    owner = relationship(\"User\", back_populates=\"wallets\")\n",
    "\n",
    "    def __repr__(self):\n",
    "        return \"<Wallet(id='%s', currency='%s', amount='%s', user_id='%s')>\" % (\n",
    "            self.id, self.currency, self.amount, self.user_id\n",
    "        )\n",
    "\n",
    "    def update(self, **kwargs):\n",
    "        if len(kwargs):\n",
    "            self.updated = datetime.datetime.utcnow()\n",
    "            p = ('amount')\n",
    "            for k, v in kwargs.items():\n",
    "                if k in p:\n",
    "                    self.__setattr__(k, v)\n",
    "\n",
    "    def update(self, **kwargs):\n",
    "        pass\n",
    "\n",
    "    def dump(self):\n",
    "        return dict([(k, v) for k, v in vars(self).items() if not k.startswith('_')])    \n",
    "\n",
    "\n",
    "class Transaction(Base):\n",
    "    __tablename__ = 'transactions'\n",
    "    id = Column(Integer, primary_key=True)\n",
    "    currency = Column(String(3), nullable=False, default='VND')\n",
    "    sent = Column(Integer, nullable=False)\n",
    "    received = Column(Integer, nullable=False)\n",
    "    fee = Column(Integer, nullable=False)\n",
    "    user_id = Column(Integer, ForeignKey('users.id'), nullable=False)\n",
    "    description = Column(String)\n",
    "    tags = Column(String)\n",
    "    created = Column(DateTime(), server_default=text(\"(datetime('now'))\"))\n",
    "    user = relationship(\"User\", back_populates=\"transactions\")\n",
    "\n",
    "    def __repr__(self):\n",
    "        return \"<Transaction(id='%s', currency='%s', sent='%s', received='%s', user_id='%s', description='%s')>\" % (\n",
    "            self.id, self.currency, self.sent, self.received, self.user_id, self.description\n",
    "        )\n",
    "\n",
    "    def update(self, **kwargs):\n",
    "        pass\n",
    "\n",
    "    def dump(self):\n",
    "        return dict([(k, v) for k, v in vars(self).items() if not k.startswith('_')])  \n",
    "\n",
    "    \n",
    "class Exchange(Base):\n",
    "    __tablename__ = 'exchanges'\n",
    "    id = Column(Integer, primary_key=True)\n",
    "    symbol = Column(String(15), ForeignKey('companies.id'), nullable=False)\n",
    "    quantity = Column(Integer)\n",
    "    price = Column(Integer)\n",
    "    seller_id = Column(Integer, ForeignKey('users.id'), nullable=False)\n",
    "    buyer_id = Column(Integer, ForeignKey('users.id'), nullable=False)\n",
    "    created = Column(DateTime(), server_default=text(\"(datetime('now'))\"))\n",
    "    seller = relationship(\"User\", back_populates=\"sells\", primaryjoin=\"User.id==Exchange.seller_id\")\n",
    "    buyer = relationship(\"User\", back_populates=\"purchases\", primaryjoin=\"User.id==Exchange.buyer_id\")\n",
    "    company = relationship(\"Company\", back_populates=\"exchanges\")\n",
    "\n",
    "    def __repr__(self):\n",
    "        return \"<Exchange(id='%s', symbol='%s', quantity='%s', price='%s', seller_id='%s', buyer_id='%s')>\" % (\n",
    "            self.id, self.symbol, self.quantity, self.price, self.seller_id, self.buyer_id\n",
    "        )\n",
    "\n",
    "    def update(self, **kwargs):\n",
    "        pass\n",
    "\n",
    "    def dump(self):\n",
    "        return dict([(k, v) for k, v in vars(self).items() if not k.startswith('_')])  \n",
    "\n",
    "    \n",
    "class Company(Base):\n",
    "    __tablename__ = 'companies'\n",
    "    id = Column(Integer, primary_key=True)\n",
    "    symbol = Column(String(15), unique=True, nullable=False)\n",
    "    company_name = Column(String(255), nullable=False)\n",
    "    industry = Column(String(255))\n",
    "    website = Column(String(255))\n",
    "    description = Column(String)\n",
    "    sector = Column(String(255))\n",
    "    tags = Column(String)\n",
    "    created = Column(DateTime(), server_default=text(\"(datetime('now'))\"))\n",
    "    updated = Column(DateTime(), server_default=text(\"(datetime('now'))\"))\n",
    "    bids = relationship(\"Bid\", back_populates=\"company\")\n",
    "    asks = relationship(\"Ask\", back_populates=\"company\")\n",
    "    book = relationship(\"Book\", back_populates=\"company\")\n",
    "    exchanges = relationship(\"Exchange\", back_populates=\"company\")\n",
    "\n",
    "    def __repr__(self):\n",
    "        return \"<Company(id='%s', symbol='%s', company_name='%s', website='%s')>\" % (\n",
    "            self.id, self.symbol, self.company_name, self.website\n",
    "        )\n",
    "\n",
    "    def update(self, **kwargs):\n",
    "        if len(kwargs):\n",
    "            self.updated = datetime.datetime.utcnow()\n",
    "            p = ('symbol', 'company_name', 'industry', 'website', 'description', 'sector', 'tags')\n",
    "            for k, v in kwargs.items():\n",
    "                if k in p:\n",
    "                    self.__setattr__(k, v)\n",
    "\n",
    "    def dump(self):\n",
    "        return dict([(k, v) for k, v in vars(self).items() if not k.startswith('_')])"
   ]
  },
  {
   "cell_type": "code",
   "execution_count": 3,
   "metadata": {},
   "outputs": [],
   "source": [
    "db_session = scoped_session(sessionmaker(autocommit=False, autoflush=False, bind=engine))"
   ]
  },
  {
   "cell_type": "code",
   "execution_count": 4,
   "metadata": {},
   "outputs": [],
   "source": [
    "Base.query = db_session.query_property()"
   ]
  },
  {
   "cell_type": "code",
   "execution_count": 5,
   "metadata": {
    "scrolled": true
   },
   "outputs": [
    {
     "name": "stdout",
     "output_type": "stream",
     "text": [
      "2018-12-15 00:44:18,213 INFO sqlalchemy.engine.base.Engine SELECT CAST('test plain returns' AS VARCHAR(60)) AS anon_1\n",
      "2018-12-15 00:44:18,214 INFO sqlalchemy.engine.base.Engine ()\n",
      "2018-12-15 00:44:18,216 INFO sqlalchemy.engine.base.Engine SELECT CAST('test unicode returns' AS VARCHAR(60)) AS anon_1\n",
      "2018-12-15 00:44:18,216 INFO sqlalchemy.engine.base.Engine ()\n",
      "2018-12-15 00:44:18,218 INFO sqlalchemy.engine.base.Engine PRAGMA table_info(\"users\")\n",
      "2018-12-15 00:44:18,220 INFO sqlalchemy.engine.base.Engine ()\n",
      "2018-12-15 00:44:18,220 INFO sqlalchemy.engine.base.Engine PRAGMA table_info(\"bids\")\n",
      "2018-12-15 00:44:18,221 INFO sqlalchemy.engine.base.Engine ()\n",
      "2018-12-15 00:44:18,222 INFO sqlalchemy.engine.base.Engine PRAGMA table_info(\"asks\")\n",
      "2018-12-15 00:44:18,223 INFO sqlalchemy.engine.base.Engine ()\n",
      "2018-12-15 00:44:18,225 INFO sqlalchemy.engine.base.Engine PRAGMA table_info(\"book\")\n",
      "2018-12-15 00:44:18,225 INFO sqlalchemy.engine.base.Engine ()\n",
      "2018-12-15 00:44:18,226 INFO sqlalchemy.engine.base.Engine PRAGMA table_info(\"wallets\")\n",
      "2018-12-15 00:44:18,227 INFO sqlalchemy.engine.base.Engine ()\n",
      "2018-12-15 00:44:18,227 INFO sqlalchemy.engine.base.Engine PRAGMA table_info(\"transactions\")\n",
      "2018-12-15 00:44:18,228 INFO sqlalchemy.engine.base.Engine ()\n",
      "2018-12-15 00:44:18,229 INFO sqlalchemy.engine.base.Engine PRAGMA table_info(\"exchanges\")\n",
      "2018-12-15 00:44:18,230 INFO sqlalchemy.engine.base.Engine ()\n",
      "2018-12-15 00:44:18,231 INFO sqlalchemy.engine.base.Engine PRAGMA table_info(\"companies\")\n",
      "2018-12-15 00:44:18,231 INFO sqlalchemy.engine.base.Engine ()\n",
      "2018-12-15 00:44:18,233 INFO sqlalchemy.engine.base.Engine \n",
      "CREATE TABLE users (\n",
      "\tid INTEGER NOT NULL, \n",
      "\tusername VARCHAR(31) NOT NULL, \n",
      "\tpassword VARCHAR(31), \n",
      "\tname VARCHAR(255), \n",
      "\temail VARCHAR(255), \n",
      "\tphone VARCHAR(255), \n",
      "\tadmin BOOLEAN, \n",
      "\tinvestor BOOLEAN, \n",
      "\tlocale VARCHAR(5), \n",
      "\tverified BOOLEAN, \n",
      "\tblocked BOOLEAN, \n",
      "\tcreated DATETIME DEFAULT (datetime('now')), \n",
      "\tupdated DATETIME DEFAULT (datetime('now')), \n",
      "\tPRIMARY KEY (id), \n",
      "\tUNIQUE (username), \n",
      "\tCHECK (admin IN (0, 1)), \n",
      "\tCHECK (investor IN (0, 1)), \n",
      "\tCHECK (verified IN (0, 1)), \n",
      "\tCHECK (blocked IN (0, 1))\n",
      ")\n",
      "\n",
      "\n",
      "2018-12-15 00:44:18,234 INFO sqlalchemy.engine.base.Engine ()\n",
      "2018-12-15 00:44:18,237 INFO sqlalchemy.engine.base.Engine COMMIT\n",
      "2018-12-15 00:44:18,238 INFO sqlalchemy.engine.base.Engine \n",
      "CREATE TABLE companies (\n",
      "\tid INTEGER NOT NULL, \n",
      "\tsymbol VARCHAR(15) NOT NULL, \n",
      "\tcompany_name VARCHAR(255) NOT NULL, \n",
      "\tindustry VARCHAR(255), \n",
      "\twebsite VARCHAR(255), \n",
      "\tdescription VARCHAR, \n",
      "\tsector VARCHAR(255), \n",
      "\ttags VARCHAR, \n",
      "\tcreated DATETIME DEFAULT (datetime('now')), \n",
      "\tupdated DATETIME DEFAULT (datetime('now')), \n",
      "\tPRIMARY KEY (id), \n",
      "\tUNIQUE (symbol)\n",
      ")\n",
      "\n",
      "\n",
      "2018-12-15 00:44:18,239 INFO sqlalchemy.engine.base.Engine ()\n",
      "2018-12-15 00:44:18,242 INFO sqlalchemy.engine.base.Engine COMMIT\n",
      "2018-12-15 00:44:18,243 INFO sqlalchemy.engine.base.Engine \n",
      "CREATE TABLE bids (\n",
      "\tid INTEGER NOT NULL, \n",
      "\tsymbol VARCHAR(15) NOT NULL, \n",
      "\tquantity INTEGER, \n",
      "\tprice INTEGER, \n",
      "\tuser_id INTEGER NOT NULL, \n",
      "\tactive BOOLEAN, \n",
      "\tcreated DATETIME DEFAULT (datetime('now')), \n",
      "\tupdated DATETIME DEFAULT (datetime('now')), \n",
      "\tPRIMARY KEY (id), \n",
      "\tFOREIGN KEY(symbol) REFERENCES companies (id), \n",
      "\tFOREIGN KEY(user_id) REFERENCES users (id), \n",
      "\tCHECK (active IN (0, 1))\n",
      ")\n",
      "\n",
      "\n",
      "2018-12-15 00:44:18,243 INFO sqlalchemy.engine.base.Engine ()\n",
      "2018-12-15 00:44:18,246 INFO sqlalchemy.engine.base.Engine COMMIT\n",
      "2018-12-15 00:44:18,247 INFO sqlalchemy.engine.base.Engine \n",
      "CREATE TABLE asks (\n",
      "\tid INTEGER NOT NULL, \n",
      "\tsymbol VARCHAR(15) NOT NULL, \n",
      "\tquantity INTEGER, \n",
      "\tprice INTEGER, \n",
      "\tuser_id INTEGER NOT NULL, \n",
      "\tactive BOOLEAN, \n",
      "\tcreated DATETIME DEFAULT (datetime('now')), \n",
      "\tupdated DATETIME DEFAULT (datetime('now')), \n",
      "\tPRIMARY KEY (id), \n",
      "\tFOREIGN KEY(symbol) REFERENCES companies (id), \n",
      "\tFOREIGN KEY(user_id) REFERENCES users (id), \n",
      "\tCHECK (active IN (0, 1))\n",
      ")\n",
      "\n",
      "\n",
      "2018-12-15 00:44:18,247 INFO sqlalchemy.engine.base.Engine ()\n",
      "2018-12-15 00:44:18,250 INFO sqlalchemy.engine.base.Engine COMMIT\n",
      "2018-12-15 00:44:18,251 INFO sqlalchemy.engine.base.Engine \n",
      "CREATE TABLE book (\n",
      "\tid INTEGER NOT NULL, \n",
      "\tsymbol VARCHAR(15) NOT NULL, \n",
      "\tquantity INTEGER NOT NULL, \n",
      "\tuser_id INTEGER NOT NULL, \n",
      "\tcreated DATETIME DEFAULT (datetime('now')), \n",
      "\tupdated DATETIME DEFAULT (datetime('now')), \n",
      "\tPRIMARY KEY (id), \n",
      "\tFOREIGN KEY(symbol) REFERENCES companies (id), \n",
      "\tFOREIGN KEY(user_id) REFERENCES users (id)\n",
      ")\n",
      "\n",
      "\n",
      "2018-12-15 00:44:18,252 INFO sqlalchemy.engine.base.Engine ()\n",
      "2018-12-15 00:44:18,255 INFO sqlalchemy.engine.base.Engine COMMIT\n",
      "2018-12-15 00:44:18,256 INFO sqlalchemy.engine.base.Engine \n",
      "CREATE TABLE wallets (\n",
      "\tid INTEGER NOT NULL, \n",
      "\tcurrency VARCHAR(3) NOT NULL, \n",
      "\tamount INTEGER NOT NULL, \n",
      "\tuser_id INTEGER NOT NULL, \n",
      "\tcreated DATETIME DEFAULT (datetime('now')), \n",
      "\tupdated DATETIME DEFAULT (datetime('now')), \n",
      "\tPRIMARY KEY (id), \n",
      "\tFOREIGN KEY(user_id) REFERENCES users (id)\n",
      ")\n",
      "\n",
      "\n",
      "2018-12-15 00:44:18,257 INFO sqlalchemy.engine.base.Engine ()\n",
      "2018-12-15 00:44:18,259 INFO sqlalchemy.engine.base.Engine COMMIT\n",
      "2018-12-15 00:44:18,260 INFO sqlalchemy.engine.base.Engine \n",
      "CREATE TABLE transactions (\n",
      "\tid INTEGER NOT NULL, \n",
      "\tcurrency VARCHAR(3) NOT NULL, \n",
      "\tsent INTEGER NOT NULL, \n",
      "\treceived INTEGER NOT NULL, \n",
      "\tfee INTEGER NOT NULL, \n",
      "\tuser_id INTEGER NOT NULL, \n",
      "\tdescription VARCHAR, \n",
      "\ttags VARCHAR, \n",
      "\tcreated DATETIME DEFAULT (datetime('now')), \n",
      "\tPRIMARY KEY (id), \n",
      "\tFOREIGN KEY(user_id) REFERENCES users (id)\n",
      ")\n",
      "\n",
      "\n",
      "2018-12-15 00:44:18,260 INFO sqlalchemy.engine.base.Engine ()\n",
      "2018-12-15 00:44:18,262 INFO sqlalchemy.engine.base.Engine COMMIT\n",
      "2018-12-15 00:44:18,264 INFO sqlalchemy.engine.base.Engine \n",
      "CREATE TABLE exchanges (\n",
      "\tid INTEGER NOT NULL, \n",
      "\tsymbol VARCHAR(15) NOT NULL, \n",
      "\tquantity INTEGER, \n",
      "\tprice INTEGER, \n",
      "\tseller_id INTEGER NOT NULL, \n",
      "\tbuyer_id INTEGER NOT NULL, \n",
      "\tcreated DATETIME DEFAULT (datetime('now')), \n",
      "\tPRIMARY KEY (id), \n",
      "\tFOREIGN KEY(symbol) REFERENCES companies (id), \n",
      "\tFOREIGN KEY(seller_id) REFERENCES users (id), \n",
      "\tFOREIGN KEY(buyer_id) REFERENCES users (id)\n",
      ")\n",
      "\n",
      "\n",
      "2018-12-15 00:44:18,264 INFO sqlalchemy.engine.base.Engine ()\n",
      "2018-12-15 00:44:18,268 INFO sqlalchemy.engine.base.Engine COMMIT\n"
     ]
    }
   ],
   "source": [
    "Base.metadata.create_all(bind=engine)"
   ]
  },
  {
   "cell_type": "code",
   "execution_count": 6,
   "metadata": {},
   "outputs": [
    {
     "name": "stdout",
     "output_type": "stream",
     "text": [
      "2018-12-15 00:44:18,571 INFO sqlalchemy.engine.base.Engine BEGIN (implicit)\n",
      "2018-12-15 00:44:18,574 INFO sqlalchemy.engine.base.Engine INSERT INTO users (username, password, name, email, phone, admin, investor, locale, verified, blocked) VALUES (?, ?, ?, ?, ?, ?, ?, ?, ?, ?)\n",
      "2018-12-15 00:44:18,575 INFO sqlalchemy.engine.base.Engine ('pericaperic', None, None, None, None, 0, 0, 'en_US', 0, 0)\n",
      "2018-12-15 00:44:18,577 INFO sqlalchemy.engine.base.Engine INSERT INTO users (username, password, name, email, phone, admin, investor, locale, verified, blocked) VALUES (?, ?, ?, ?, ?, ?, ?, ?, ?, ?)\n",
      "2018-12-15 00:44:18,578 INFO sqlalchemy.engine.base.Engine ('johndoe', None, None, None, None, 0, 0, 'en_US', 0, 0)\n",
      "2018-12-15 00:44:18,580 INFO sqlalchemy.engine.base.Engine INSERT INTO users (username, password, name, email, phone, admin, investor, locale, verified, blocked) VALUES (?, ?, ?, ?, ?, ?, ?, ?, ?, ?)\n",
      "2018-12-15 00:44:18,581 INFO sqlalchemy.engine.base.Engine ('seletelek', None, None, None, None, 0, 0, 'en_US', 0, 0)\n",
      "2018-12-15 00:44:18,582 INFO sqlalchemy.engine.base.Engine COMMIT\n"
     ]
    }
   ],
   "source": [
    "db_session.add(User(username='pericaperic'))\n",
    "db_session.add(User(username='johndoe'))\n",
    "db_session.add(User(username='seletelek'))\n",
    "db_session.commit()"
   ]
  },
  {
   "cell_type": "code",
   "execution_count": 7,
   "metadata": {},
   "outputs": [
    {
     "name": "stdout",
     "output_type": "stream",
     "text": [
      "2018-12-15 00:44:19,457 INFO sqlalchemy.engine.base.Engine BEGIN (implicit)\n",
      "2018-12-15 00:44:19,459 INFO sqlalchemy.engine.base.Engine INSERT INTO companies (symbol, company_name, industry, website, description, sector, tags) VALUES (?, ?, ?, ?, ?, ?, ?)\n",
      "2018-12-15 00:44:19,460 INFO sqlalchemy.engine.base.Engine ('OLI', 'Oliver LTD.', None, None, None, None, None)\n",
      "2018-12-15 00:44:19,462 INFO sqlalchemy.engine.base.Engine COMMIT\n"
     ]
    }
   ],
   "source": [
    "db_session.add(Company(symbol='OLI', company_name='Oliver LTD.'))\n",
    "db_session.commit()"
   ]
  },
  {
   "cell_type": "code",
   "execution_count": 8,
   "metadata": {},
   "outputs": [
    {
     "name": "stdout",
     "output_type": "stream",
     "text": [
      "2018-12-15 00:44:20,207 INFO sqlalchemy.engine.base.Engine BEGIN (implicit)\n",
      "2018-12-15 00:44:20,209 INFO sqlalchemy.engine.base.Engine SELECT users.id AS users_id, users.username AS users_username, users.password AS users_password, users.name AS users_name, users.email AS users_email, users.phone AS users_phone, users.admin AS users_admin, users.investor AS users_investor, users.locale AS users_locale, users.verified AS users_verified, users.blocked AS users_blocked, users.created AS users_created, users.updated AS users_updated \n",
      "FROM users\n",
      " LIMIT ? OFFSET ?\n",
      "2018-12-15 00:44:20,210 INFO sqlalchemy.engine.base.Engine (3, 0)\n"
     ]
    },
    {
     "data": {
      "text/plain": [
       "(<User(id='1', username='pericaperic', email='None', phone='None', admin='False', verified='False', blocked='False')>,\n",
       " <User(id='2', username='johndoe', email='None', phone='None', admin='False', verified='False', blocked='False')>,\n",
       " <User(id='3', username='seletelek', email='None', phone='None', admin='False', verified='False', blocked='False')>)"
      ]
     },
     "execution_count": 8,
     "metadata": {},
     "output_type": "execute_result"
    }
   ],
   "source": [
    "# u1 = db_session.query(User).filter(User.id == 1).one_or_none()\n",
    "u1, u2, u3 = db_session.query(User).limit(3).all()\n",
    "(u1, u2, u3)"
   ]
  },
  {
   "cell_type": "code",
   "execution_count": 9,
   "metadata": {},
   "outputs": [
    {
     "name": "stdout",
     "output_type": "stream",
     "text": [
      "2018-12-15 00:44:21,413 INFO sqlalchemy.engine.base.Engine SELECT bids.id AS bids_id, bids.symbol AS bids_symbol, bids.quantity AS bids_quantity, bids.price AS bids_price, bids.user_id AS bids_user_id, bids.active AS bids_active, bids.created AS bids_created, bids.updated AS bids_updated \n",
      "FROM bids \n",
      "WHERE ? = bids.user_id\n",
      "2018-12-15 00:44:21,414 INFO sqlalchemy.engine.base.Engine (1,)\n"
     ]
    }
   ],
   "source": [
    "u1.bids.append(Bid(symbol='OLI', quantity=3,price=3456))"
   ]
  },
  {
   "cell_type": "code",
   "execution_count": 10,
   "metadata": {},
   "outputs": [
    {
     "data": {
      "text/plain": [
       "IdentitySet([<Bid(id='None', symbol='OLI', quantity='3', price='3456', user_id='None', active='None')>])"
      ]
     },
     "execution_count": 10,
     "metadata": {},
     "output_type": "execute_result"
    }
   ],
   "source": [
    "db_session.new"
   ]
  },
  {
   "cell_type": "code",
   "execution_count": 11,
   "metadata": {},
   "outputs": [
    {
     "name": "stdout",
     "output_type": "stream",
     "text": [
      "2018-12-15 00:44:24,602 INFO sqlalchemy.engine.base.Engine INSERT INTO bids (symbol, quantity, price, user_id, active) VALUES (?, ?, ?, ?, ?)\n",
      "2018-12-15 00:44:24,603 INFO sqlalchemy.engine.base.Engine ('OLI', 3, 3456, 1, 1)\n",
      "2018-12-15 00:44:24,605 INFO sqlalchemy.engine.base.Engine COMMIT\n"
     ]
    }
   ],
   "source": [
    "db_session.commit()"
   ]
  },
  {
   "cell_type": "code",
   "execution_count": 12,
   "metadata": {},
   "outputs": [
    {
     "name": "stdout",
     "output_type": "stream",
     "text": [
      "2018-12-15 00:44:25,705 INFO sqlalchemy.engine.base.Engine BEGIN (implicit)\n",
      "2018-12-15 00:44:25,706 INFO sqlalchemy.engine.base.Engine SELECT users.id AS users_id, users.username AS users_username, users.password AS users_password, users.name AS users_name, users.email AS users_email, users.phone AS users_phone, users.admin AS users_admin, users.investor AS users_investor, users.locale AS users_locale, users.verified AS users_verified, users.blocked AS users_blocked, users.created AS users_created, users.updated AS users_updated \n",
      "FROM users \n",
      "WHERE users.id = ?\n",
      "2018-12-15 00:44:25,707 INFO sqlalchemy.engine.base.Engine (1,)\n",
      "2018-12-15 00:44:25,709 INFO sqlalchemy.engine.base.Engine SELECT bids.id AS bids_id, bids.symbol AS bids_symbol, bids.quantity AS bids_quantity, bids.price AS bids_price, bids.user_id AS bids_user_id, bids.active AS bids_active, bids.created AS bids_created, bids.updated AS bids_updated \n",
      "FROM bids \n",
      "WHERE ? = bids.user_id\n",
      "2018-12-15 00:44:25,710 INFO sqlalchemy.engine.base.Engine (1,)\n"
     ]
    },
    {
     "data": {
      "text/plain": [
       "[<Bid(id='1', symbol='OLI', quantity='3', price='3456', user_id='1', active='True')>]"
      ]
     },
     "execution_count": 12,
     "metadata": {},
     "output_type": "execute_result"
    }
   ],
   "source": [
    "u1.bids"
   ]
  },
  {
   "cell_type": "code",
   "execution_count": 13,
   "metadata": {},
   "outputs": [
    {
     "name": "stdout",
     "output_type": "stream",
     "text": [
      "2018-12-15 00:44:27,577 INFO sqlalchemy.engine.base.Engine SELECT asks.id AS asks_id, asks.symbol AS asks_symbol, asks.quantity AS asks_quantity, asks.price AS asks_price, asks.user_id AS asks_user_id, asks.active AS asks_active, asks.created AS asks_created, asks.updated AS asks_updated \n",
      "FROM asks \n",
      "WHERE ? = asks.user_id\n",
      "2018-12-15 00:44:27,578 INFO sqlalchemy.engine.base.Engine (1,)\n"
     ]
    }
   ],
   "source": [
    "u1.asks.append(Ask(symbol='OLI', quantity=3,price=3456))"
   ]
  },
  {
   "cell_type": "code",
   "execution_count": 14,
   "metadata": {},
   "outputs": [
    {
     "name": "stdout",
     "output_type": "stream",
     "text": [
      "2018-12-15 00:44:28,069 INFO sqlalchemy.engine.base.Engine INSERT INTO asks (symbol, quantity, price, user_id, active) VALUES (?, ?, ?, ?, ?)\n",
      "2018-12-15 00:44:28,070 INFO sqlalchemy.engine.base.Engine ('OLI', 3, 3456, 1, 1)\n",
      "2018-12-15 00:44:28,072 INFO sqlalchemy.engine.base.Engine COMMIT\n"
     ]
    }
   ],
   "source": [
    "db_session.commit()"
   ]
  },
  {
   "cell_type": "code",
   "execution_count": 18,
   "metadata": {},
   "outputs": [
    {
     "data": {
      "text/plain": [
       "<User(id='1', username='pericaperic', email='None', phone='None', admin='False', verified='False', blocked='False')>"
      ]
     },
     "execution_count": 18,
     "metadata": {},
     "output_type": "execute_result"
    }
   ],
   "source": [
    "u1.asks[0].investor"
   ]
  },
  {
   "cell_type": "code",
   "execution_count": 19,
   "metadata": {},
   "outputs": [],
   "source": [
    "u1.sells.append(Exchange(symbol='OLI', quantity=3, price=3456, buyer_id=2))"
   ]
  },
  {
   "cell_type": "code",
   "execution_count": 20,
   "metadata": {},
   "outputs": [
    {
     "name": "stdout",
     "output_type": "stream",
     "text": [
      "2018-12-15 00:45:15,484 INFO sqlalchemy.engine.base.Engine INSERT INTO exchanges (symbol, quantity, price, seller_id, buyer_id) VALUES (?, ?, ?, ?, ?)\n",
      "2018-12-15 00:45:15,485 INFO sqlalchemy.engine.base.Engine ('OLI', 3, 3456, 1, 2)\n",
      "2018-12-15 00:45:15,487 INFO sqlalchemy.engine.base.Engine INSERT INTO exchanges (symbol, quantity, price, seller_id, buyer_id) VALUES (?, ?, ?, ?, ?)\n",
      "2018-12-15 00:45:15,487 INFO sqlalchemy.engine.base.Engine ('OLI', 3, 3456, 1, 2)\n",
      "2018-12-15 00:45:15,488 INFO sqlalchemy.engine.base.Engine COMMIT\n"
     ]
    }
   ],
   "source": [
    "db_session.commit()"
   ]
  },
  {
   "cell_type": "code",
   "execution_count": 21,
   "metadata": {},
   "outputs": [
    {
     "name": "stdout",
     "output_type": "stream",
     "text": [
      "2018-12-15 00:45:16,337 INFO sqlalchemy.engine.base.Engine BEGIN (implicit)\n",
      "2018-12-15 00:45:16,339 INFO sqlalchemy.engine.base.Engine SELECT users.id AS users_id, users.username AS users_username, users.password AS users_password, users.name AS users_name, users.email AS users_email, users.phone AS users_phone, users.admin AS users_admin, users.investor AS users_investor, users.locale AS users_locale, users.verified AS users_verified, users.blocked AS users_blocked, users.created AS users_created, users.updated AS users_updated \n",
      "FROM users \n",
      "WHERE users.id = ?\n",
      "2018-12-15 00:45:16,340 INFO sqlalchemy.engine.base.Engine (1,)\n",
      "2018-12-15 00:45:16,341 INFO sqlalchemy.engine.base.Engine SELECT exchanges.id AS exchanges_id, exchanges.symbol AS exchanges_symbol, exchanges.quantity AS exchanges_quantity, exchanges.price AS exchanges_price, exchanges.seller_id AS exchanges_seller_id, exchanges.buyer_id AS exchanges_buyer_id, exchanges.created AS exchanges_created \n",
      "FROM exchanges \n",
      "WHERE exchanges.seller_id = ?\n",
      "2018-12-15 00:45:16,342 INFO sqlalchemy.engine.base.Engine (1,)\n"
     ]
    },
    {
     "data": {
      "text/plain": [
       "[<Exchange(id='1', symbol='OLI', quantity='3', price='3456', seller_id='1', buyer_id='2')>,\n",
       " <Exchange(id='2', symbol='OLI', quantity='3', price='3456', seller_id='1', buyer_id='2')>]"
      ]
     },
     "execution_count": 21,
     "metadata": {},
     "output_type": "execute_result"
    }
   ],
   "source": [
    "u1.sells"
   ]
  },
  {
   "cell_type": "code",
   "execution_count": 22,
   "metadata": {},
   "outputs": [
    {
     "name": "stdout",
     "output_type": "stream",
     "text": [
      "2018-12-15 00:45:19,060 INFO sqlalchemy.engine.base.Engine SELECT users.id AS users_id, users.username AS users_username, users.password AS users_password, users.name AS users_name, users.email AS users_email, users.phone AS users_phone, users.admin AS users_admin, users.investor AS users_investor, users.locale AS users_locale, users.verified AS users_verified, users.blocked AS users_blocked, users.created AS users_created, users.updated AS users_updated \n",
      "FROM users \n",
      "WHERE users.id = ?\n",
      "2018-12-15 00:45:19,061 INFO sqlalchemy.engine.base.Engine (2,)\n",
      "2018-12-15 00:45:19,064 INFO sqlalchemy.engine.base.Engine SELECT exchanges.id AS exchanges_id, exchanges.symbol AS exchanges_symbol, exchanges.quantity AS exchanges_quantity, exchanges.price AS exchanges_price, exchanges.seller_id AS exchanges_seller_id, exchanges.buyer_id AS exchanges_buyer_id, exchanges.created AS exchanges_created \n",
      "FROM exchanges \n",
      "WHERE exchanges.buyer_id = ?\n",
      "2018-12-15 00:45:19,065 INFO sqlalchemy.engine.base.Engine (2,)\n"
     ]
    },
    {
     "data": {
      "text/plain": [
       "<User(id='1', username='pericaperic', email='None', phone='None', admin='False', verified='False', blocked='False')>"
      ]
     },
     "execution_count": 22,
     "metadata": {},
     "output_type": "execute_result"
    }
   ],
   "source": [
    "u2.purchases[0].seller"
   ]
  },
  {
   "cell_type": "code",
   "execution_count": 23,
   "metadata": {},
   "outputs": [],
   "source": [
    "u1.update(email='mr.oliver.nadj@gmail.com')"
   ]
  },
  {
   "cell_type": "code",
   "execution_count": 24,
   "metadata": {},
   "outputs": [
    {
     "name": "stdout",
     "output_type": "stream",
     "text": [
      "2018-12-15 00:45:25,111 INFO sqlalchemy.engine.base.Engine UPDATE users SET email=?, updated=? WHERE users.id = ?\n",
      "2018-12-15 00:45:25,112 INFO sqlalchemy.engine.base.Engine ('mr.oliver.nadj@gmail.com', '2018-12-14 17:45:23.949786', 1)\n",
      "2018-12-15 00:45:25,115 INFO sqlalchemy.engine.base.Engine COMMIT\n"
     ]
    }
   ],
   "source": [
    "db_session.commit()"
   ]
  },
  {
   "cell_type": "code",
   "execution_count": 25,
   "metadata": {},
   "outputs": [
    {
     "name": "stdout",
     "output_type": "stream",
     "text": [
      "2018-12-15 00:45:26,072 INFO sqlalchemy.engine.base.Engine BEGIN (implicit)\n",
      "2018-12-15 00:45:26,073 INFO sqlalchemy.engine.base.Engine SELECT users.id AS users_id, users.username AS users_username, users.password AS users_password, users.name AS users_name, users.email AS users_email, users.phone AS users_phone, users.admin AS users_admin, users.investor AS users_investor, users.locale AS users_locale, users.verified AS users_verified, users.blocked AS users_blocked, users.created AS users_created, users.updated AS users_updated \n",
      "FROM users \n",
      "WHERE users.id = ?\n",
      "2018-12-15 00:45:26,074 INFO sqlalchemy.engine.base.Engine (1,)\n"
     ]
    },
    {
     "data": {
      "text/plain": [
       "(datetime.datetime(2018, 12, 14, 17, 45, 23, 949786),\n",
       " datetime.datetime(2018, 12, 14, 17, 44, 18))"
      ]
     },
     "execution_count": 25,
     "metadata": {},
     "output_type": "execute_result"
    }
   ],
   "source": [
    "(u1.updated, u1.created)"
   ]
  },
  {
   "cell_type": "code",
   "execution_count": null,
   "metadata": {},
   "outputs": [],
   "source": []
  }
 ],
 "metadata": {
  "kernelspec": {
   "display_name": "Python 3",
   "language": "python",
   "name": "python3"
  },
  "language_info": {
   "codemirror_mode": {
    "name": "ipython",
    "version": 3
   },
   "file_extension": ".py",
   "mimetype": "text/x-python",
   "name": "python",
   "nbconvert_exporter": "python",
   "pygments_lexer": "ipython3",
   "version": "3.7.0"
  }
 },
 "nbformat": 4,
 "nbformat_minor": 2
}
